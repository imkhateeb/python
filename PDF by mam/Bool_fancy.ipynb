{
 "cells": [
  {
   "cell_type": "code",
   "execution_count": 1,
   "id": "9f302a14-9d0b-4cdb-bcda-10e4bae427c5",
   "metadata": {},
   "outputs": [],
   "source": [
    "import numpy as np"
   ]
  },
  {
   "cell_type": "code",
   "execution_count": 2,
   "id": "d989490e-738b-49c9-be78-420629cda6f3",
   "metadata": {},
   "outputs": [],
   "source": [
    "A=np.arange(0,100,10)"
   ]
  },
  {
   "cell_type": "code",
   "execution_count": 3,
   "id": "3e2cb17e-cc0b-4d3e-aa01-6b04b74c30b2",
   "metadata": {},
   "outputs": [
    {
     "data": {
      "text/plain": [
       "array([ 0, 10, 20, 30, 40, 50, 60, 70, 80, 90])"
      ]
     },
     "execution_count": 3,
     "metadata": {},
     "output_type": "execute_result"
    }
   ],
   "source": [
    "A"
   ]
  },
  {
   "cell_type": "code",
   "execution_count": 4,
   "id": "a1f6448b-483e-4af9-9a4f-0f54b6075605",
   "metadata": {},
   "outputs": [
    {
     "data": {
      "text/plain": [
       "10"
      ]
     },
     "execution_count": 4,
     "metadata": {},
     "output_type": "execute_result"
    }
   ],
   "source": [
    "A.size"
   ]
  },
  {
   "cell_type": "code",
   "execution_count": 5,
   "id": "6a13afa2-1f21-4c31-9ac3-0cedb3f9293f",
   "metadata": {},
   "outputs": [
    {
     "data": {
      "text/plain": [
       "array([[ 0, 10],\n",
       "       [20, 30],\n",
       "       [40, 50],\n",
       "       [60, 70],\n",
       "       [80, 90]])"
      ]
     },
     "execution_count": 5,
     "metadata": {},
     "output_type": "execute_result"
    }
   ],
   "source": [
    "A.reshape(5,-1)"
   ]
  },
  {
   "cell_type": "code",
   "execution_count": 6,
   "id": "29c22284-e0cf-4027-a8cb-0918e538d306",
   "metadata": {},
   "outputs": [
    {
     "data": {
      "text/plain": [
       "array([ 0, 10, 20, 30, 40, 50, 60, 70, 80, 90])"
      ]
     },
     "execution_count": 6,
     "metadata": {},
     "output_type": "execute_result"
    }
   ],
   "source": [
    "A"
   ]
  },
  {
   "cell_type": "code",
   "execution_count": 8,
   "id": "d7f1f3eb-07f4-4135-aebb-374832b16f6a",
   "metadata": {},
   "outputs": [],
   "source": [
    "b1=A%4==0"
   ]
  },
  {
   "cell_type": "code",
   "execution_count": 9,
   "id": "2a04ebeb-bea8-4272-b564-a7814601f3a8",
   "metadata": {},
   "outputs": [
    {
     "data": {
      "text/plain": [
       "array([ True, False,  True, False,  True, False,  True, False,  True,\n",
       "       False])"
      ]
     },
     "execution_count": 9,
     "metadata": {},
     "output_type": "execute_result"
    }
   ],
   "source": [
    "b1"
   ]
  },
  {
   "cell_type": "code",
   "execution_count": 10,
   "id": "a9cfa4c7-4ad3-466d-bc19-1d4dcc92381a",
   "metadata": {},
   "outputs": [
    {
     "data": {
      "text/plain": [
       "array([ 0, 20, 40, 60, 80])"
      ]
     },
     "execution_count": 10,
     "metadata": {},
     "output_type": "execute_result"
    }
   ],
   "source": [
    "A[b1]"
   ]
  },
  {
   "cell_type": "code",
   "execution_count": 11,
   "id": "01274384-6e73-47ed-acc7-364b7b3394fc",
   "metadata": {},
   "outputs": [
    {
     "data": {
      "text/plain": [
       "array([ 0, 10, 20, 30, 40, 50, 60, 70, 80, 90])"
      ]
     },
     "execution_count": 11,
     "metadata": {},
     "output_type": "execute_result"
    }
   ],
   "source": [
    "A"
   ]
  },
  {
   "cell_type": "code",
   "execution_count": 13,
   "id": "13fe0398-638a-4fd1-b43a-a5780cf7e9dc",
   "metadata": {},
   "outputs": [],
   "source": [
    "A[b1]=0"
   ]
  },
  {
   "cell_type": "code",
   "execution_count": 14,
   "id": "926a08e0-6982-4999-9d0b-fc47ad84bae5",
   "metadata": {},
   "outputs": [
    {
     "data": {
      "text/plain": [
       "array([ 0, 10,  0, 30,  0, 50,  0, 70,  0, 90])"
      ]
     },
     "execution_count": 14,
     "metadata": {},
     "output_type": "execute_result"
    }
   ],
   "source": [
    "A"
   ]
  },
  {
   "cell_type": "code",
   "execution_count": 22,
   "id": "eb96192d-746f-4b82-ae31-28b868f79dee",
   "metadata": {},
   "outputs": [],
   "source": [
    "b2=np.logical_and(A%5==0,A%6==0)"
   ]
  },
  {
   "cell_type": "code",
   "execution_count": null,
   "id": "baaadc44-d353-4fb2-bb39-cb9aa6990f40",
   "metadata": {},
   "outputs": [],
   "source": []
  },
  {
   "cell_type": "code",
   "execution_count": 23,
   "id": "c939e720-5d49-4fc5-8b2d-5f352e557720",
   "metadata": {},
   "outputs": [
    {
     "data": {
      "text/plain": [
       "array([False, False,  True,  True,  True, False,  True, False,  True,\n",
       "        True])"
      ]
     },
     "execution_count": 23,
     "metadata": {},
     "output_type": "execute_result"
    }
   ],
   "source": [
    "b2"
   ]
  },
  {
   "cell_type": "code",
   "execution_count": 24,
   "id": "cf61f90a-a66c-48ad-b81c-940ccc05bd85",
   "metadata": {},
   "outputs": [],
   "source": [
    "B2=A[b2]"
   ]
  },
  {
   "cell_type": "code",
   "execution_count": 25,
   "id": "76979fce-4b26-475e-85ad-f16f284642f0",
   "metadata": {},
   "outputs": [
    {
     "data": {
      "text/plain": [
       "array([ 0, 30,  0,  0,  0, 90])"
      ]
     },
     "execution_count": 25,
     "metadata": {},
     "output_type": "execute_result"
    }
   ],
   "source": [
    "B2"
   ]
  },
  {
   "cell_type": "code",
   "execution_count": 27,
   "id": "28fdf3b3-fc4e-418c-ac76-dd7b0132e446",
   "metadata": {},
   "outputs": [],
   "source": [
    "A[b2]=1"
   ]
  },
  {
   "cell_type": "code",
   "execution_count": 28,
   "id": "47c8b257-e0a9-466e-8be2-435c4e20f1b5",
   "metadata": {},
   "outputs": [
    {
     "data": {
      "text/plain": [
       "array([ 1, 10,  1,  1,  1, 50,  1, 70,  1,  1])"
      ]
     },
     "execution_count": 28,
     "metadata": {},
     "output_type": "execute_result"
    }
   ],
   "source": [
    "A"
   ]
  },
  {
   "cell_type": "code",
   "execution_count": 29,
   "id": "3fecea0f-285f-4f8d-9a41-a84647c80ab5",
   "metadata": {},
   "outputs": [],
   "source": [
    "b3=np.logical_or(A%4==0,A%5==0)"
   ]
  },
  {
   "cell_type": "code",
   "execution_count": 30,
   "id": "a324cfb4-ea20-4b63-bb54-c4c85ea02205",
   "metadata": {},
   "outputs": [
    {
     "data": {
      "text/plain": [
       "array([False,  True, False, False, False,  True, False,  True, False,\n",
       "       False])"
      ]
     },
     "execution_count": 30,
     "metadata": {},
     "output_type": "execute_result"
    }
   ],
   "source": [
    "b3"
   ]
  },
  {
   "cell_type": "code",
   "execution_count": 31,
   "id": "360845be-b964-4afc-99c6-6fcb63076a30",
   "metadata": {},
   "outputs": [],
   "source": [
    "B3=A[b3]"
   ]
  },
  {
   "cell_type": "code",
   "execution_count": 32,
   "id": "f06f961b-d0c1-48aa-a02b-214d42def7e8",
   "metadata": {},
   "outputs": [
    {
     "data": {
      "text/plain": [
       "array([10, 50, 70])"
      ]
     },
     "execution_count": 32,
     "metadata": {},
     "output_type": "execute_result"
    }
   ],
   "source": [
    "B3"
   ]
  },
  {
   "cell_type": "code",
   "execution_count": 33,
   "id": "5756052b-e89a-49aa-bf99-5dbd55dd4a91",
   "metadata": {},
   "outputs": [],
   "source": [
    "C=np.arange(1,19).reshape(3,6)"
   ]
  },
  {
   "cell_type": "code",
   "execution_count": 34,
   "id": "82007f89-67ff-4a73-b05e-53b5f06c8fb6",
   "metadata": {},
   "outputs": [
    {
     "data": {
      "text/plain": [
       "array([[ 1,  2,  3,  4,  5,  6],\n",
       "       [ 7,  8,  9, 10, 11, 12],\n",
       "       [13, 14, 15, 16, 17, 18]])"
      ]
     },
     "execution_count": 34,
     "metadata": {},
     "output_type": "execute_result"
    }
   ],
   "source": [
    "C"
   ]
  },
  {
   "cell_type": "code",
   "execution_count": 35,
   "id": "eba52994-3785-4dd4-ae4c-d46cfa907edc",
   "metadata": {},
   "outputs": [
    {
     "data": {
      "text/plain": [
       "array([[1, 2, 3, 4, 5, 6]])"
      ]
     },
     "execution_count": 35,
     "metadata": {},
     "output_type": "execute_result"
    }
   ],
   "source": [
    "C[[0]]"
   ]
  },
  {
   "cell_type": "code",
   "execution_count": 36,
   "id": "2fee9332-e918-402e-81e3-53d7427a315d",
   "metadata": {},
   "outputs": [
    {
     "data": {
      "text/plain": [
       "array([[ 1,  2,  3,  4,  5,  6],\n",
       "       [ 7,  8,  9, 10, 11, 12],\n",
       "       [13, 14, 15, 16, 17, 18]])"
      ]
     },
     "execution_count": 36,
     "metadata": {},
     "output_type": "execute_result"
    }
   ],
   "source": [
    "C"
   ]
  },
  {
   "cell_type": "code",
   "execution_count": 37,
   "id": "1170a92e-b3ef-4905-8f4c-0c786103fe1f",
   "metadata": {},
   "outputs": [
    {
     "data": {
      "text/plain": [
       "array([[1, 2, 3, 4, 5, 6],\n",
       "       [1, 2, 3, 4, 5, 6]])"
      ]
     },
     "execution_count": 37,
     "metadata": {},
     "output_type": "execute_result"
    }
   ],
   "source": [
    "C[[0,0]]"
   ]
  },
  {
   "cell_type": "code",
   "execution_count": 38,
   "id": "f542aa5f-e74b-4eea-b9c1-e9870cea95d6",
   "metadata": {},
   "outputs": [
    {
     "data": {
      "text/plain": [
       "array([[ 7,  8,  9, 10, 11, 12],\n",
       "       [13, 14, 15, 16, 17, 18]])"
      ]
     },
     "execution_count": 38,
     "metadata": {},
     "output_type": "execute_result"
    }
   ],
   "source": [
    "C[[1,2]]"
   ]
  },
  {
   "cell_type": "code",
   "execution_count": 39,
   "id": "794b4519-bfab-4af0-8af6-5c654ca548b2",
   "metadata": {},
   "outputs": [
    {
     "data": {
      "text/plain": [
       "array([[[1, 2, 3, 4, 5, 6]]])"
      ]
     },
     "execution_count": 39,
     "metadata": {},
     "output_type": "execute_result"
    }
   ],
   "source": [
    "C[[[0]]]"
   ]
  },
  {
   "cell_type": "code",
   "execution_count": 40,
   "id": "17e9b66a-8e61-46e1-9376-f90e71cd53a3",
   "metadata": {},
   "outputs": [],
   "source": [
    "C1=C[[[0]]]"
   ]
  },
  {
   "cell_type": "code",
   "execution_count": 41,
   "id": "fc54bdc0-25f9-4809-8973-685511b6a3ab",
   "metadata": {},
   "outputs": [
    {
     "data": {
      "text/plain": [
       "3"
      ]
     },
     "execution_count": 41,
     "metadata": {},
     "output_type": "execute_result"
    }
   ],
   "source": [
    "C1.ndim"
   ]
  },
  {
   "cell_type": "code",
   "execution_count": 42,
   "id": "b4fdc465-1bb9-4417-bbdd-e33f675202e4",
   "metadata": {},
   "outputs": [
    {
     "data": {
      "text/plain": [
       "(1, 1, 6)"
      ]
     },
     "execution_count": 42,
     "metadata": {},
     "output_type": "execute_result"
    }
   ],
   "source": [
    "C1.shape"
   ]
  },
  {
   "cell_type": "code",
   "execution_count": 79,
   "id": "bef09766-007d-4360-8daa-4f3d12327c8e",
   "metadata": {},
   "outputs": [
    {
     "data": {
      "text/plain": [
       "array([1])"
      ]
     },
     "execution_count": 79,
     "metadata": {},
     "output_type": "execute_result"
    }
   ],
   "source": [
    "C[[0],[0]]"
   ]
  },
  {
   "cell_type": "code",
   "execution_count": 80,
   "id": "0a97c1bd-239c-46c8-9bd9-fca4b38bcc13",
   "metadata": {},
   "outputs": [],
   "source": [
    "D=C[[0],[0]]"
   ]
  },
  {
   "cell_type": "code",
   "execution_count": 81,
   "id": "d3100ae9-8f93-492a-9dea-704c662a4d2f",
   "metadata": {},
   "outputs": [
    {
     "data": {
      "text/plain": [
       "array([1])"
      ]
     },
     "execution_count": 81,
     "metadata": {},
     "output_type": "execute_result"
    }
   ],
   "source": [
    "D"
   ]
  },
  {
   "cell_type": "code",
   "execution_count": 82,
   "id": "81dfe4a6-5460-4e5b-aa81-8dfd3f41a848",
   "metadata": {},
   "outputs": [
    {
     "data": {
      "text/plain": [
       "1"
      ]
     },
     "execution_count": 82,
     "metadata": {},
     "output_type": "execute_result"
    }
   ],
   "source": [
    "D.ndim"
   ]
  },
  {
   "cell_type": "code",
   "execution_count": 83,
   "id": "6459c0c4-bd89-4b58-b743-456d35353a32",
   "metadata": {},
   "outputs": [
    {
     "data": {
      "text/plain": [
       "(1,)"
      ]
     },
     "execution_count": 83,
     "metadata": {},
     "output_type": "execute_result"
    }
   ],
   "source": [
    "D.shape"
   ]
  },
  {
   "cell_type": "code",
   "execution_count": 84,
   "id": "1afbd51f-189e-42ca-88c8-1ae5f121cb6f",
   "metadata": {},
   "outputs": [],
   "source": [
    "E=np.arange(1,17).reshape(4,4)"
   ]
  },
  {
   "cell_type": "code",
   "execution_count": 86,
   "id": "287a12cf-e533-474b-8ffc-77e30299bc42",
   "metadata": {},
   "outputs": [
    {
     "data": {
      "text/plain": [
       "array([[ 1,  2,  3,  4],\n",
       "       [ 5,  6,  7,  8],\n",
       "       [ 9, 10, 11, 12],\n",
       "       [13, 14, 15, 16]])"
      ]
     },
     "execution_count": 86,
     "metadata": {},
     "output_type": "execute_result"
    }
   ],
   "source": [
    "E"
   ]
  },
  {
   "cell_type": "code",
   "execution_count": 87,
   "id": "631a5611-3eda-43e1-981e-386c0bca50b4",
   "metadata": {},
   "outputs": [
    {
     "data": {
      "text/plain": [
       "2"
      ]
     },
     "execution_count": 87,
     "metadata": {},
     "output_type": "execute_result"
    }
   ],
   "source": [
    "E.ndim"
   ]
  },
  {
   "cell_type": "code",
   "execution_count": 88,
   "id": "a5bb84cc-49e1-4fd9-beae-3915a96f7f05",
   "metadata": {},
   "outputs": [
    {
     "data": {
      "text/plain": [
       "array([[ 1],\n",
       "       [ 5],\n",
       "       [ 9],\n",
       "       [13]])"
      ]
     },
     "execution_count": 88,
     "metadata": {},
     "output_type": "execute_result"
    }
   ],
   "source": [
    "E[:,[0]]"
   ]
  },
  {
   "cell_type": "code",
   "execution_count": 89,
   "id": "4b75bda7-85d8-4105-b025-b1cadd77db6d",
   "metadata": {},
   "outputs": [
    {
     "data": {
      "text/plain": [
       "array([[ 2,  3],\n",
       "       [ 6,  7],\n",
       "       [10, 11],\n",
       "       [14, 15]])"
      ]
     },
     "execution_count": 89,
     "metadata": {},
     "output_type": "execute_result"
    }
   ],
   "source": [
    "E[:,[1,2]]"
   ]
  },
  {
   "cell_type": "code",
   "execution_count": 91,
   "id": "01009e92-a304-4a7d-a1b7-270d9770ed10",
   "metadata": {},
   "outputs": [],
   "source": [
    "r1=[0,1];c1=[2,3]"
   ]
  },
  {
   "cell_type": "code",
   "execution_count": 92,
   "id": "78ec92b7-5e1c-4d59-8d9a-d0beb8d8a863",
   "metadata": {},
   "outputs": [
    {
     "data": {
      "text/plain": [
       "array([[1, 2, 3, 4],\n",
       "       [5, 6, 7, 8]])"
      ]
     },
     "execution_count": 92,
     "metadata": {},
     "output_type": "execute_result"
    }
   ],
   "source": [
    "E[r1]"
   ]
  },
  {
   "cell_type": "code",
   "execution_count": 94,
   "id": "2077bf66-3e39-4f0e-bcbc-8c4d27101eca",
   "metadata": {},
   "outputs": [],
   "source": [
    "F=E[[r1]]"
   ]
  },
  {
   "cell_type": "code",
   "execution_count": 95,
   "id": "4b8da8a4-1636-4aa5-ba7b-de135edca27d",
   "metadata": {},
   "outputs": [
    {
     "data": {
      "text/plain": [
       "3"
      ]
     },
     "execution_count": 95,
     "metadata": {},
     "output_type": "execute_result"
    }
   ],
   "source": [
    "F.ndim"
   ]
  },
  {
   "cell_type": "code",
   "execution_count": 98,
   "id": "97d8382b-825d-4823-bce8-521854b49d7a",
   "metadata": {},
   "outputs": [
    {
     "data": {
      "text/plain": [
       "(1, 2, 4)"
      ]
     },
     "execution_count": 98,
     "metadata": {},
     "output_type": "execute_result"
    }
   ],
   "source": [
    "F.shape"
   ]
  },
  {
   "cell_type": "code",
   "execution_count": 99,
   "id": "13c18394-6d5e-4be2-a3b9-b5fc4fa93797",
   "metadata": {},
   "outputs": [
    {
     "data": {
      "text/plain": [
       "array([[[1, 2, 3, 4],\n",
       "        [5, 6, 7, 8]]])"
      ]
     },
     "execution_count": 99,
     "metadata": {},
     "output_type": "execute_result"
    }
   ],
   "source": [
    "F"
   ]
  },
  {
   "cell_type": "code",
   "execution_count": 100,
   "id": "b8ef362c-375a-456a-bb3b-743bc17bc63c",
   "metadata": {},
   "outputs": [],
   "source": [
    "E[[0]]=np.zeros((1,4),dtype='i')"
   ]
  },
  {
   "cell_type": "code",
   "execution_count": 101,
   "id": "a1f1cea1-b82f-4032-b31a-61b2601cbd01",
   "metadata": {},
   "outputs": [
    {
     "data": {
      "text/plain": [
       "array([[ 0,  0,  0,  0],\n",
       "       [ 5,  6,  7,  8],\n",
       "       [ 9, 10, 11, 12],\n",
       "       [13, 14, 15, 16]])"
      ]
     },
     "execution_count": 101,
     "metadata": {},
     "output_type": "execute_result"
    }
   ],
   "source": [
    "E"
   ]
  },
  {
   "cell_type": "code",
   "execution_count": 102,
   "id": "53c64bdc-6922-4d02-9327-ede4f4102b76",
   "metadata": {},
   "outputs": [
    {
     "data": {
      "text/plain": [
       "array([0, 8])"
      ]
     },
     "execution_count": 102,
     "metadata": {},
     "output_type": "execute_result"
    }
   ],
   "source": [
    "E[r1,c1]"
   ]
  },
  {
   "cell_type": "code",
   "execution_count": 103,
   "id": "7a5f6fac-2c45-4e9d-b86b-327d63f5c66c",
   "metadata": {},
   "outputs": [
    {
     "data": {
      "text/plain": [
       "array([[0, 0, 0, 0],\n",
       "       [5, 6, 7, 8]])"
      ]
     },
     "execution_count": 103,
     "metadata": {},
     "output_type": "execute_result"
    }
   ],
   "source": [
    "E[r1]"
   ]
  },
  {
   "cell_type": "code",
   "execution_count": 104,
   "id": "57e40408-4803-4b60-b2ac-bd6f321e4008",
   "metadata": {},
   "outputs": [
    {
     "data": {
      "text/plain": [
       "array([[0, 8]])"
      ]
     },
     "execution_count": 104,
     "metadata": {},
     "output_type": "execute_result"
    }
   ],
   "source": [
    "E[[r1],[c1]]"
   ]
  },
  {
   "cell_type": "code",
   "execution_count": null,
   "id": "4413783a-5562-4e3b-9b87-7f30fc360d0c",
   "metadata": {},
   "outputs": [],
   "source": []
  }
 ],
 "metadata": {
  "kernelspec": {
   "display_name": "Python 3 (ipykernel)",
   "language": "python",
   "name": "python3"
  },
  "language_info": {
   "codemirror_mode": {
    "name": "ipython",
    "version": 3
   },
   "file_extension": ".py",
   "mimetype": "text/x-python",
   "name": "python",
   "nbconvert_exporter": "python",
   "pygments_lexer": "ipython3",
   "version": "3.11.4"
  }
 },
 "nbformat": 4,
 "nbformat_minor": 5
}
