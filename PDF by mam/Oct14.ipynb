{
 "cells": [
  {
   "cell_type": "code",
   "execution_count": 2,
   "id": "4bbc9df5-da04-4f6a-8c6b-903940183e4e",
   "metadata": {},
   "outputs": [
    {
     "name": "stdout",
     "output_type": "stream",
     "text": [
      "100\n",
      "3.14\n",
      "I Love You\n"
     ]
    }
   ],
   "source": [
    "def display_data(p,q,r): \n",
    "\tprint(p**2)\n",
    "\tprint(round(q,2))\n",
    "\tprint(r.title())\n",
    "display_data(10,3.142876, \"i love you\")\n"
   ]
  },
  {
   "cell_type": "code",
   "execution_count": 3,
   "id": "89b2442d-eb19-4823-948c-3ba47cee2cd0",
   "metadata": {},
   "outputs": [
    {
     "name": "stdout",
     "output_type": "stream",
     "text": [
      "The result is 36\n"
     ]
    }
   ],
   "source": [
    "def sum_cubes(n1,n2,n3):\n",
    "\tsum3=n1**3+n2**3+n3**3\n",
    "\treturn sum3\n",
    "S=sum_cubes(1,2,3)\n",
    "print(\"The result is\",S)"
   ]
  },
  {
   "cell_type": "code",
   "execution_count": 6,
   "id": "520f8127-aadd-4d0d-8409-0840652fdcae",
   "metadata": {},
   "outputs": [
    {
     "ename": "TypeError",
     "evalue": "unsupported operand type(s) for ** or pow(): 'str' and 'int'",
     "output_type": "error",
     "traceback": [
      "\u001b[1;31m---------------------------------------------------------------------------\u001b[0m",
      "\u001b[1;31mTypeError\u001b[0m                                 Traceback (most recent call last)",
      "Cell \u001b[1;32mIn[6], line 5\u001b[0m\n\u001b[0;32m      3\u001b[0m \t\u001b[38;5;28mprint\u001b[39m(\u001b[38;5;28mround\u001b[39m(q,\u001b[38;5;241m2\u001b[39m))\n\u001b[0;32m      4\u001b[0m \t\u001b[38;5;28mprint\u001b[39m(r\u001b[38;5;241m.\u001b[39mtitle())\n\u001b[1;32m----> 5\u001b[0m \u001b[43mdisplay_data\u001b[49m\u001b[43m(\u001b[49m\u001b[38;5;124;43m\"\u001b[39;49m\u001b[38;5;124;43mi love you\u001b[39;49m\u001b[38;5;124;43m\"\u001b[39;49m\u001b[43m,\u001b[49m\u001b[38;5;241;43m10\u001b[39;49m\u001b[43m,\u001b[49m\u001b[38;5;241;43m3.142876\u001b[39;49m\u001b[43m)\u001b[49m\n",
      "Cell \u001b[1;32mIn[6], line 2\u001b[0m, in \u001b[0;36mdisplay_data\u001b[1;34m(p, q, r)\u001b[0m\n\u001b[0;32m      1\u001b[0m \u001b[38;5;28;01mdef\u001b[39;00m \u001b[38;5;21mdisplay_data\u001b[39m(p,q,r): \n\u001b[1;32m----> 2\u001b[0m \t\u001b[38;5;28mprint\u001b[39m(\u001b[43mp\u001b[49m\u001b[38;5;241;43m*\u001b[39;49m\u001b[38;5;241;43m*\u001b[39;49m\u001b[38;5;241;43m2\u001b[39;49m)\n\u001b[0;32m      3\u001b[0m \t\u001b[38;5;28mprint\u001b[39m(\u001b[38;5;28mround\u001b[39m(q,\u001b[38;5;241m2\u001b[39m))\n\u001b[0;32m      4\u001b[0m \t\u001b[38;5;28mprint\u001b[39m(r\u001b[38;5;241m.\u001b[39mtitle())\n",
      "\u001b[1;31mTypeError\u001b[0m: unsupported operand type(s) for ** or pow(): 'str' and 'int'"
     ]
    }
   ],
   "source": [
    "def display_data(p,q,r): \n",
    "\tprint(p**2)\n",
    "\tprint(round(q,2))\n",
    "\tprint(r.title())\n",
    "display_data(\"i love you\",10,3.142876)"
   ]
  },
  {
   "cell_type": "code",
   "execution_count": 4,
   "id": "afd25a75-cb1a-4f9d-b7d3-993e2220a780",
   "metadata": {},
   "outputs": [
    {
     "name": "stdout",
     "output_type": "stream",
     "text": [
      "100\n",
      "3.14\n",
      "I Love You\n"
     ]
    }
   ],
   "source": [
    "def display_data(number, pi_n,cringe):\n",
    "    print(number**2)\n",
    "    print(round(pi_n,2))\n",
    "    print(cringe.title())\n",
    "display_data(cringe=\"i love you\",number=10, pi_n=3.142876)"
   ]
  },
  {
   "cell_type": "code",
   "execution_count": 5,
   "id": "b635e023-6a5b-45fe-adf5-ba02a3551b3f",
   "metadata": {},
   "outputs": [
    {
     "name": "stdout",
     "output_type": "stream",
     "text": [
      "The first result is 9\n",
      "the second result is 100\n"
     ]
    }
   ],
   "source": [
    "def sum_cubes(*var_arg):\n",
    "    sum3=0\n",
    "    for j in var_arg:\n",
    "        \n",
    "    \tsum3+=j**3\n",
    "    return sum3\n",
    "\t\n",
    "    \n",
    "S1=sum_cubes(1,2)\n",
    "print(\"The first result is\",S1)\n",
    "S2=sum_cubes(1,2,3,4)\n",
    "print(\"the second result is\",S2)"
   ]
  },
  {
   "cell_type": "code",
   "execution_count": 7,
   "id": "c2185233-b937-486a-a48a-46b2bdac3f06",
   "metadata": {},
   "outputs": [
    {
     "name": "stdout",
     "output_type": "stream",
     "text": [
      "(3, 2)\n"
     ]
    }
   ],
   "source": [
    "def div_mod(*tup):\n",
    "    q=tup[0]//tup[1]\n",
    "    r=tup[0]%tup[1]\n",
    "    return q,r\n",
    "t=div_mod(17,5)\n",
    "print(t)"
   ]
  },
  {
   "cell_type": "code",
   "execution_count": 10,
   "id": "5ae8d453-6881-4cc9-ba29-a0d6018f3d5b",
   "metadata": {},
   "outputs": [
    {
     "name": "stdin",
     "output_type": "stream",
     "text": [
      "enter the dividend\n",
      " 17\n",
      "enter the divisor\n",
      " 5\n"
     ]
    },
    {
     "name": "stdout",
     "output_type": "stream",
     "text": [
      "The quotient and remainder are\n",
      " (3, 2)\n"
     ]
    }
   ],
   "source": [
    "def div_mod(**kw_args):\n",
    "\tq=kw_args['dividend']//kw_args['divisor']\n",
    "\tr= kw_args['dividend']%kw_args['divisor']\n",
    "\treturn q,r\n",
    "N1=int(input(\"enter the dividend\\n\"))\n",
    "N2=int(input(\"enter the divisor\\n\"))\n",
    "T=div_mod(divisor=N2,dividend=N1)\n",
    "print(\"The quotient and remainder are\\n\",T)\n"
   ]
  },
  {
   "cell_type": "code",
   "execution_count": 11,
   "id": "10aa2c2c-f0ed-4456-8619-7398d9e88345",
   "metadata": {},
   "outputs": [
    {
     "name": "stdout",
     "output_type": "stream",
     "text": [
      "cringe I Love You\n",
      "number 10\n",
      "cringe I Love You\n",
      "pi_n 3.142876\n",
      "number 10\n",
      "cringe I Love You\n"
     ]
    }
   ],
   "source": [
    "def Display_Data(**d1):\n",
    "\tfor k in d1:\n",
    "\t\tprint(k,d1[k])\n",
    "Display_Data(cringe=\"I Love You\")\n",
    "Display_Data(number=10,cringe=\"I Love You\")\n",
    "Display_Data(pi_n=3.142876,number=10,cringe=\"I Love You\")\n"
   ]
  },
  {
   "cell_type": "code",
   "execution_count": null,
   "id": "11a26ab6-5707-4647-b638-8d6daf3b8925",
   "metadata": {},
   "outputs": [],
   "source": []
  }
 ],
 "metadata": {
  "kernelspec": {
   "display_name": "Python 3 (ipykernel)",
   "language": "python",
   "name": "python3"
  },
  "language_info": {
   "codemirror_mode": {
    "name": "ipython",
    "version": 3
   },
   "file_extension": ".py",
   "mimetype": "text/x-python",
   "name": "python",
   "nbconvert_exporter": "python",
   "pygments_lexer": "ipython3",
   "version": "3.11.4"
  }
 },
 "nbformat": 4,
 "nbformat_minor": 5
}
