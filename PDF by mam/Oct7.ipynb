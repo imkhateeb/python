{
 "cells": [
  {
   "cell_type": "code",
   "execution_count": 1,
   "id": "d0c9012e-84ae-4956-a8b1-19eca823aa1f",
   "metadata": {},
   "outputs": [],
   "source": [
    "a=1,2,3"
   ]
  },
  {
   "cell_type": "code",
   "execution_count": 2,
   "id": "2a5b0aa3-7d15-42c8-b16a-6fc3c4d1d861",
   "metadata": {},
   "outputs": [
    {
     "data": {
      "text/plain": [
       "tuple"
      ]
     },
     "execution_count": 2,
     "metadata": {},
     "output_type": "execute_result"
    }
   ],
   "source": [
    "type(a)"
   ]
  },
  {
   "cell_type": "code",
   "execution_count": 3,
   "id": "b8a0ab33-8ad9-4949-a4d8-8f71d0fa2610",
   "metadata": {},
   "outputs": [],
   "source": [
    "a=(4,5,6)"
   ]
  },
  {
   "cell_type": "code",
   "execution_count": 4,
   "id": "3da87e5e-c693-4d2d-ba52-ef4e8a0cdc7e",
   "metadata": {},
   "outputs": [
    {
     "data": {
      "text/plain": [
       "tuple"
      ]
     },
     "execution_count": 4,
     "metadata": {},
     "output_type": "execute_result"
    }
   ],
   "source": [
    "type(a)"
   ]
  },
  {
   "cell_type": "code",
   "execution_count": 5,
   "id": "b9482ea7-e3f1-46a0-b450-5f8f9159f653",
   "metadata": {},
   "outputs": [],
   "source": [
    "a,b=10,20"
   ]
  },
  {
   "cell_type": "code",
   "execution_count": 6,
   "id": "ee3fe439-41a1-4ef9-88ee-e98ad5d4f6f8",
   "metadata": {},
   "outputs": [
    {
     "name": "stdout",
     "output_type": "stream",
     "text": [
      "140726524699720 140726524700040\n"
     ]
    }
   ],
   "source": [
    "print(id(a),id(b))"
   ]
  },
  {
   "cell_type": "code",
   "execution_count": 7,
   "id": "38d0e14c-2ef3-4576-a8a0-9fc8157a4dc7",
   "metadata": {},
   "outputs": [],
   "source": [
    "a,b=b,a"
   ]
  },
  {
   "cell_type": "code",
   "execution_count": 8,
   "id": "933e00cd-fe00-4feb-8283-b05505a82f0b",
   "metadata": {},
   "outputs": [
    {
     "name": "stdout",
     "output_type": "stream",
     "text": [
      "140726524699720 140726524700040\n"
     ]
    }
   ],
   "source": [
    "print(id(b),id(a))"
   ]
  },
  {
   "cell_type": "code",
   "execution_count": 9,
   "id": "bb2f8a7c-6f3e-4a1c-878d-0436dbcba009",
   "metadata": {},
   "outputs": [
    {
     "name": "stdout",
     "output_type": "stream",
     "text": [
      "10 20\n"
     ]
    }
   ],
   "source": [
    "print(b,a)"
   ]
  },
  {
   "cell_type": "code",
   "execution_count": 10,
   "id": "fbae902d-15c8-402a-a7f8-1671b502b1a0",
   "metadata": {},
   "outputs": [],
   "source": [
    "T1=1,2,3"
   ]
  },
  {
   "cell_type": "code",
   "execution_count": 11,
   "id": "71dd7f1a-9f3b-424f-8f1d-d916119693ae",
   "metadata": {},
   "outputs": [],
   "source": [
    "T2=1,2,3,T1"
   ]
  },
  {
   "cell_type": "code",
   "execution_count": 12,
   "id": "a209d3e2-a80d-4915-a693-a9b77c3133c1",
   "metadata": {},
   "outputs": [
    {
     "data": {
      "text/plain": [
       "(1, 2, 3, (1, 2, 3))"
      ]
     },
     "execution_count": 12,
     "metadata": {},
     "output_type": "execute_result"
    }
   ],
   "source": [
    "T2"
   ]
  },
  {
   "cell_type": "code",
   "execution_count": 13,
   "id": "60b3a472-38b0-40f3-9bb3-b92f13686a70",
   "metadata": {},
   "outputs": [],
   "source": [
    "T3=1,2,3,*T1"
   ]
  },
  {
   "cell_type": "code",
   "execution_count": 14,
   "id": "de849659-7a4c-4b67-9691-44af58450523",
   "metadata": {},
   "outputs": [
    {
     "data": {
      "text/plain": [
       "(1, 2, 3, 1, 2, 3)"
      ]
     },
     "execution_count": 14,
     "metadata": {},
     "output_type": "execute_result"
    }
   ],
   "source": [
    "T3"
   ]
  },
  {
   "cell_type": "code",
   "execution_count": 15,
   "id": "64dc5a4c-9b23-4a00-ac1a-7dd9a38adfdc",
   "metadata": {},
   "outputs": [],
   "source": [
    "T4=T1,T3"
   ]
  },
  {
   "cell_type": "code",
   "execution_count": 16,
   "id": "37ed3895-b402-46a3-a55f-0ee715762542",
   "metadata": {},
   "outputs": [
    {
     "data": {
      "text/plain": [
       "((1, 2, 3), (1, 2, 3, 1, 2, 3))"
      ]
     },
     "execution_count": 16,
     "metadata": {},
     "output_type": "execute_result"
    }
   ],
   "source": [
    "T4"
   ]
  },
  {
   "cell_type": "code",
   "execution_count": 17,
   "id": "dabc51ff-6b34-4b7d-8b33-f144bcaa5010",
   "metadata": {},
   "outputs": [
    {
     "data": {
      "text/plain": [
       "(1, 2, 3)"
      ]
     },
     "execution_count": 17,
     "metadata": {},
     "output_type": "execute_result"
    }
   ],
   "source": [
    "T4[0]"
   ]
  },
  {
   "cell_type": "code",
   "execution_count": 18,
   "id": "532bd6ed-4bf4-41d7-9666-805cb378dc84",
   "metadata": {},
   "outputs": [
    {
     "data": {
      "text/plain": [
       "1"
      ]
     },
     "execution_count": 18,
     "metadata": {},
     "output_type": "execute_result"
    }
   ],
   "source": [
    "T4[0][0]"
   ]
  },
  {
   "cell_type": "code",
   "execution_count": 19,
   "id": "012dbc08-3ac6-4eb3-892a-fafd0e54b1f7",
   "metadata": {},
   "outputs": [
    {
     "ename": "TypeError",
     "evalue": "'tuple' object does not support item assignment",
     "output_type": "error",
     "traceback": [
      "\u001b[1;31m---------------------------------------------------------------------------\u001b[0m",
      "\u001b[1;31mTypeError\u001b[0m                                 Traceback (most recent call last)",
      "Cell \u001b[1;32mIn[19], line 1\u001b[0m\n\u001b[1;32m----> 1\u001b[0m \u001b[43mT4\u001b[49m\u001b[43m[\u001b[49m\u001b[38;5;241;43m0\u001b[39;49m\u001b[43m]\u001b[49m\u001b[38;5;241m=\u001b[39m\u001b[38;5;241m10\u001b[39m\n",
      "\u001b[1;31mTypeError\u001b[0m: 'tuple' object does not support item assignment"
     ]
    }
   ],
   "source": [
    "T4[0]=10"
   ]
  },
  {
   "cell_type": "code",
   "execution_count": 20,
   "id": "92cd433b-7f4f-43c3-8c90-5081659cd1fe",
   "metadata": {},
   "outputs": [],
   "source": [
    "S=\"Old Mcdonald had a farm\""
   ]
  },
  {
   "cell_type": "code",
   "execution_count": 21,
   "id": "768d78f9-1838-452d-b753-89951977de29",
   "metadata": {},
   "outputs": [
    {
     "ename": "TypeError",
     "evalue": "str.partition() takes exactly one argument (0 given)",
     "output_type": "error",
     "traceback": [
      "\u001b[1;31m---------------------------------------------------------------------------\u001b[0m",
      "\u001b[1;31mTypeError\u001b[0m                                 Traceback (most recent call last)",
      "Cell \u001b[1;32mIn[21], line 1\u001b[0m\n\u001b[1;32m----> 1\u001b[0m \u001b[43mS\u001b[49m\u001b[38;5;241;43m.\u001b[39;49m\u001b[43mpartition\u001b[49m\u001b[43m(\u001b[49m\u001b[43m)\u001b[49m\n",
      "\u001b[1;31mTypeError\u001b[0m: str.partition() takes exactly one argument (0 given)"
     ]
    }
   ],
   "source": [
    "S.partition()"
   ]
  },
  {
   "cell_type": "code",
   "execution_count": 22,
   "id": "26af7079-db1d-4698-8de6-5cd4e125814a",
   "metadata": {},
   "outputs": [
    {
     "data": {
      "text/plain": [
       "('Old', ' ', 'Mcdonald had a farm')"
      ]
     },
     "execution_count": 22,
     "metadata": {},
     "output_type": "execute_result"
    }
   ],
   "source": [
    "S.partition(\" \")"
   ]
  },
  {
   "cell_type": "code",
   "execution_count": 23,
   "id": "358409a9-9f54-478d-8ef9-7031b3886325",
   "metadata": {},
   "outputs": [
    {
     "data": {
      "text/plain": [
       "('Old Mcdonald ', 'had', ' a farm')"
      ]
     },
     "execution_count": 23,
     "metadata": {},
     "output_type": "execute_result"
    }
   ],
   "source": [
    "S.partition(\"had\")"
   ]
  },
  {
   "cell_type": "code",
   "execution_count": 24,
   "id": "15ac5d5f-ec74-43b0-8b4a-d96d1cf53775",
   "metadata": {},
   "outputs": [],
   "source": [
    "T1=S.partition(\"*\")"
   ]
  },
  {
   "cell_type": "code",
   "execution_count": 25,
   "id": "7c79adbe-8900-4426-b6fc-361b81b6ebbc",
   "metadata": {},
   "outputs": [
    {
     "data": {
      "text/plain": [
       "('Old Mcdonald had a farm', '', '')"
      ]
     },
     "execution_count": 25,
     "metadata": {},
     "output_type": "execute_result"
    }
   ],
   "source": [
    "T1"
   ]
  },
  {
   "cell_type": "code",
   "execution_count": 26,
   "id": "bbeeddc8-950e-4599-b5aa-c0e7bd888b20",
   "metadata": {},
   "outputs": [
    {
     "data": {
      "text/plain": [
       "'Old Mcdonald had a farm  '"
      ]
     },
     "execution_count": 26,
     "metadata": {},
     "output_type": "execute_result"
    }
   ],
   "source": [
    "\" \".join(T1)"
   ]
  },
  {
   "cell_type": "code",
   "execution_count": 27,
   "id": "3b8c967c-bd9f-4b1e-a33f-f0da1a04a15b",
   "metadata": {},
   "outputs": [],
   "source": [
    "T1=(1,2,3);T2=(4,5,6);T3=(7,8,9)"
   ]
  },
  {
   "cell_type": "code",
   "execution_count": 28,
   "id": "3ef15c2c-f35b-40de-83db-cfd345359c74",
   "metadata": {},
   "outputs": [],
   "source": [
    "TT=T1,T2,T3"
   ]
  },
  {
   "cell_type": "code",
   "execution_count": 29,
   "id": "a6aa4d1e-e08f-451f-a1ba-43b83750330f",
   "metadata": {},
   "outputs": [
    {
     "data": {
      "text/plain": [
       "((1, 2, 3), (4, 5, 6), (7, 8, 9))"
      ]
     },
     "execution_count": 29,
     "metadata": {},
     "output_type": "execute_result"
    }
   ],
   "source": [
    "TT"
   ]
  },
  {
   "cell_type": "code",
   "execution_count": 30,
   "id": "83cd9213-e884-4e1b-9ee9-13e74a885bd4",
   "metadata": {},
   "outputs": [],
   "source": [
    "LT=[T1,T2,T3]"
   ]
  },
  {
   "cell_type": "code",
   "execution_count": 31,
   "id": "3ffb1124-62b9-4631-8025-338da088c3f3",
   "metadata": {},
   "outputs": [
    {
     "data": {
      "text/plain": [
       "[(1, 2, 3), (4, 5, 6), (7, 8, 9)]"
      ]
     },
     "execution_count": 31,
     "metadata": {},
     "output_type": "execute_result"
    }
   ],
   "source": [
    "LT"
   ]
  },
  {
   "cell_type": "code",
   "execution_count": 32,
   "id": "de4f51b0-1aaf-44ec-94db-c57b3c366541",
   "metadata": {},
   "outputs": [],
   "source": [
    "ST={T1,T2,T3}"
   ]
  },
  {
   "cell_type": "code",
   "execution_count": 33,
   "id": "df05b8b2-30a1-4fa3-a506-634a86df9ea6",
   "metadata": {},
   "outputs": [
    {
     "data": {
      "text/plain": [
       "{(1, 2, 3), (4, 5, 6), (7, 8, 9)}"
      ]
     },
     "execution_count": 33,
     "metadata": {},
     "output_type": "execute_result"
    }
   ],
   "source": [
    "ST"
   ]
  },
  {
   "cell_type": "code",
   "execution_count": 34,
   "id": "587c6828-2075-49f8-9305-04561ec8d3ff",
   "metadata": {},
   "outputs": [],
   "source": [
    "T=tuple(\"Picture abhi bhi bakki hai\")"
   ]
  },
  {
   "cell_type": "code",
   "execution_count": 35,
   "id": "27826ffd-3f9c-42e3-85e5-82e713265894",
   "metadata": {},
   "outputs": [
    {
     "data": {
      "text/plain": [
       "('P',\n",
       " 'i',\n",
       " 'c',\n",
       " 't',\n",
       " 'u',\n",
       " 'r',\n",
       " 'e',\n",
       " ' ',\n",
       " 'a',\n",
       " 'b',\n",
       " 'h',\n",
       " 'i',\n",
       " ' ',\n",
       " 'b',\n",
       " 'h',\n",
       " 'i',\n",
       " ' ',\n",
       " 'b',\n",
       " 'a',\n",
       " 'k',\n",
       " 'k',\n",
       " 'i',\n",
       " ' ',\n",
       " 'h',\n",
       " 'a',\n",
       " 'i')"
      ]
     },
     "execution_count": 35,
     "metadata": {},
     "output_type": "execute_result"
    }
   ],
   "source": [
    "T"
   ]
  },
  {
   "cell_type": "code",
   "execution_count": 36,
   "id": "4c733abb-fa36-4584-b7e9-6631509695b4",
   "metadata": {},
   "outputs": [],
   "source": [
    "T2=tuple(LT)"
   ]
  },
  {
   "cell_type": "code",
   "execution_count": 37,
   "id": "901ba20b-d4c2-4a44-b71b-383c65799fb4",
   "metadata": {},
   "outputs": [
    {
     "data": {
      "text/plain": [
       "((1, 2, 3), (4, 5, 6), (7, 8, 9))"
      ]
     },
     "execution_count": 37,
     "metadata": {},
     "output_type": "execute_result"
    }
   ],
   "source": [
    "T2"
   ]
  },
  {
   "cell_type": "code",
   "execution_count": 38,
   "id": "8cfbaae2-0755-4699-bdff-64c33f95a323",
   "metadata": {},
   "outputs": [],
   "source": [
    "T3=tuple(ST)"
   ]
  },
  {
   "cell_type": "code",
   "execution_count": 39,
   "id": "db1b0433-90d5-4c6c-b7c2-f963367e9143",
   "metadata": {},
   "outputs": [
    {
     "data": {
      "text/plain": [
       "((7, 8, 9), (1, 2, 3), (4, 5, 6))"
      ]
     },
     "execution_count": 39,
     "metadata": {},
     "output_type": "execute_result"
    }
   ],
   "source": [
    "T3"
   ]
  },
  {
   "cell_type": "code",
   "execution_count": 40,
   "id": "08786f63-b181-4350-9296-6152aa05be69",
   "metadata": {},
   "outputs": [],
   "source": [
    "L1=[\"Titiksha\",\"Samridhi\",\"Deeksha\",\"Shakti\"]"
   ]
  },
  {
   "cell_type": "code",
   "execution_count": 41,
   "id": "cf261376-b101-45cd-8f7d-21130cad5fd2",
   "metadata": {},
   "outputs": [],
   "source": [
    "L2=[1060,2057,1082,1041]"
   ]
  },
  {
   "cell_type": "code",
   "execution_count": 42,
   "id": "c857aa4d-4c1f-41ca-8352-ab3d7d245cfa",
   "metadata": {},
   "outputs": [],
   "source": [
    "L3=[90,87,80,82]"
   ]
  },
  {
   "cell_type": "code",
   "execution_count": 43,
   "id": "788057da-0f6b-4237-b72f-6627a7b60bb4",
   "metadata": {},
   "outputs": [],
   "source": [
    "L4=list(zip(L1,L2,L3))"
   ]
  },
  {
   "cell_type": "code",
   "execution_count": 44,
   "id": "04246416-9b0a-4c08-a65f-1fa7f618bdbf",
   "metadata": {},
   "outputs": [
    {
     "data": {
      "text/plain": [
       "[('Titiksha', 1060, 90),\n",
       " ('Samridhi', 2057, 87),\n",
       " ('Deeksha', 1082, 80),\n",
       " ('Shakti', 1041, 82)]"
      ]
     },
     "execution_count": 44,
     "metadata": {},
     "output_type": "execute_result"
    }
   ],
   "source": [
    "L4"
   ]
  },
  {
   "cell_type": "code",
   "execution_count": 45,
   "id": "0c4cbb83-fc04-4b81-9d0a-51bf81222eee",
   "metadata": {},
   "outputs": [],
   "source": [
    "L3=[90,87,82]"
   ]
  },
  {
   "cell_type": "code",
   "execution_count": 46,
   "id": "bb3745d6-0845-4b90-b902-faf7488a61f6",
   "metadata": {},
   "outputs": [],
   "source": [
    "L5=list(zip(L1,L2,L3))"
   ]
  },
  {
   "cell_type": "code",
   "execution_count": 47,
   "id": "036529ce-2e48-4c71-9849-696f29dad767",
   "metadata": {},
   "outputs": [
    {
     "data": {
      "text/plain": [
       "[('Titiksha', 1060, 90), ('Samridhi', 2057, 87), ('Deeksha', 1082, 82)]"
      ]
     },
     "execution_count": 47,
     "metadata": {},
     "output_type": "execute_result"
    }
   ],
   "source": [
    "L5"
   ]
  },
  {
   "cell_type": "code",
   "execution_count": 49,
   "id": "737e7b0b-a5de-4aaa-a4d6-80bd28205abb",
   "metadata": {},
   "outputs": [
    {
     "ename": "ValueError",
     "evalue": "zip() argument 3 is shorter than arguments 1-2",
     "output_type": "error",
     "traceback": [
      "\u001b[1;31m---------------------------------------------------------------------------\u001b[0m",
      "\u001b[1;31mValueError\u001b[0m                                Traceback (most recent call last)",
      "Cell \u001b[1;32mIn[49], line 1\u001b[0m\n\u001b[1;32m----> 1\u001b[0m L6\u001b[38;5;241m=\u001b[39m\u001b[38;5;28;43mlist\u001b[39;49m\u001b[43m(\u001b[49m\u001b[38;5;28;43mzip\u001b[39;49m\u001b[43m(\u001b[49m\u001b[43mL1\u001b[49m\u001b[43m,\u001b[49m\u001b[43mL2\u001b[49m\u001b[43m,\u001b[49m\u001b[43mL3\u001b[49m\u001b[43m,\u001b[49m\u001b[43mstrict\u001b[49m\u001b[38;5;241;43m=\u001b[39;49m\u001b[38;5;28;43;01mTrue\u001b[39;49;00m\u001b[43m)\u001b[49m\u001b[43m)\u001b[49m\n",
      "\u001b[1;31mValueError\u001b[0m: zip() argument 3 is shorter than arguments 1-2"
     ]
    }
   ],
   "source": [
    "L6=list(zip(L1,L2,L3,strict=True))"
   ]
  },
  {
   "cell_type": "code",
   "execution_count": 50,
   "id": "1a7c6e30-9460-43a3-acbd-bc9a5b119b27",
   "metadata": {},
   "outputs": [],
   "source": [
    "T=tuple(zip(L1,L2,L3))"
   ]
  },
  {
   "cell_type": "code",
   "execution_count": 51,
   "id": "1da1a915-50e7-4d70-838e-9c3d8780a11c",
   "metadata": {},
   "outputs": [
    {
     "data": {
      "text/plain": [
       "(('Titiksha', 1060, 90), ('Samridhi', 2057, 87), ('Deeksha', 1082, 82))"
      ]
     },
     "execution_count": 51,
     "metadata": {},
     "output_type": "execute_result"
    }
   ],
   "source": [
    "T"
   ]
  },
  {
   "cell_type": "code",
   "execution_count": 52,
   "id": "e53001f1-a433-410a-b80b-877c498f0373",
   "metadata": {},
   "outputs": [
    {
     "data": {
      "text/plain": [
       "[('Deeksha', 1082, 82), ('Samridhi', 2057, 87), ('Titiksha', 1060, 90)]"
      ]
     },
     "execution_count": 52,
     "metadata": {},
     "output_type": "execute_result"
    }
   ],
   "source": [
    "sorted(T)"
   ]
  },
  {
   "cell_type": "code",
   "execution_count": 53,
   "id": "66a9af6e-08a8-4f48-b049-4c8d9dbb0ce2",
   "metadata": {},
   "outputs": [],
   "source": [
    "import operator"
   ]
  },
  {
   "cell_type": "code",
   "execution_count": 55,
   "id": "ca330d07-57c9-4ed6-9ce8-143dac9ad212",
   "metadata": {},
   "outputs": [
    {
     "data": {
      "text/plain": [
       "[('Titiksha', 1060, 90), ('Deeksha', 1082, 82), ('Samridhi', 2057, 87)]"
      ]
     },
     "execution_count": 55,
     "metadata": {},
     "output_type": "execute_result"
    }
   ],
   "source": [
    "sorted(T,key=operator.itemgetter(1))"
   ]
  },
  {
   "cell_type": "code",
   "execution_count": 56,
   "id": "8e33131e-7d97-49d4-b93b-918f3273eb35",
   "metadata": {},
   "outputs": [
    {
     "data": {
      "text/plain": [
       "[('Samridhi', 2057, 87), ('Deeksha', 1082, 82), ('Titiksha', 1060, 90)]"
      ]
     },
     "execution_count": 56,
     "metadata": {},
     "output_type": "execute_result"
    }
   ],
   "source": [
    "sorted(T,key=operator.itemgetter(1),reverse=True)"
   ]
  },
  {
   "cell_type": "code",
   "execution_count": 57,
   "id": "0b8fd0ac-ccaf-4e27-a75d-52d0479e0fc9",
   "metadata": {},
   "outputs": [
    {
     "ename": "TypeError",
     "evalue": "'tuple' object doesn't support item deletion",
     "output_type": "error",
     "traceback": [
      "\u001b[1;31m---------------------------------------------------------------------------\u001b[0m",
      "\u001b[1;31mTypeError\u001b[0m                                 Traceback (most recent call last)",
      "Cell \u001b[1;32mIn[57], line 1\u001b[0m\n\u001b[1;32m----> 1\u001b[0m \u001b[38;5;28;01mdel\u001b[39;00m(\u001b[43mT\u001b[49m\u001b[43m[\u001b[49m\u001b[38;5;241;43m0\u001b[39;49m\u001b[43m]\u001b[49m)\n",
      "\u001b[1;31mTypeError\u001b[0m: 'tuple' object doesn't support item deletion"
     ]
    }
   ],
   "source": [
    "del(T[0])"
   ]
  },
  {
   "cell_type": "code",
   "execution_count": 58,
   "id": "4fb54b93-5109-4a94-a382-d667d8badb50",
   "metadata": {},
   "outputs": [],
   "source": [
    "del(T)"
   ]
  },
  {
   "cell_type": "code",
   "execution_count": 59,
   "id": "8369c9fb-fd8b-4f92-892f-bc581adb982d",
   "metadata": {},
   "outputs": [
    {
     "ename": "NameError",
     "evalue": "name 'T' is not defined",
     "output_type": "error",
     "traceback": [
      "\u001b[1;31m---------------------------------------------------------------------------\u001b[0m",
      "\u001b[1;31mNameError\u001b[0m                                 Traceback (most recent call last)",
      "Cell \u001b[1;32mIn[59], line 1\u001b[0m\n\u001b[1;32m----> 1\u001b[0m \u001b[43mT\u001b[49m\n",
      "\u001b[1;31mNameError\u001b[0m: name 'T' is not defined"
     ]
    }
   ],
   "source": [
    "T"
   ]
  },
  {
   "cell_type": "code",
   "execution_count": 60,
   "id": "526ef1c6-0ee8-4192-aa19-ac14ff596eae",
   "metadata": {},
   "outputs": [],
   "source": [
    "A=7,8"
   ]
  },
  {
   "cell_type": "code",
   "execution_count": 61,
   "id": "0129ba76-e2e5-4bba-9640-af3ffe2d0a0d",
   "metadata": {},
   "outputs": [],
   "source": [
    "B=4,5,6,10"
   ]
  },
  {
   "cell_type": "code",
   "execution_count": 62,
   "id": "3c86d0b6-fd97-43dd-b094-537bb1d45f51",
   "metadata": {},
   "outputs": [
    {
     "data": {
      "text/plain": [
       "True"
      ]
     },
     "execution_count": 62,
     "metadata": {},
     "output_type": "execute_result"
    }
   ],
   "source": [
    "A>B"
   ]
  },
  {
   "cell_type": "code",
   "execution_count": 63,
   "id": "ed2597b0-cef5-4941-80e4-387889667e7b",
   "metadata": {},
   "outputs": [
    {
     "data": {
      "text/plain": [
       "False"
      ]
     },
     "execution_count": 63,
     "metadata": {},
     "output_type": "execute_result"
    }
   ],
   "source": [
    "A<B"
   ]
  },
  {
   "cell_type": "code",
   "execution_count": null,
   "id": "34e587d6-e45b-4f40-bb7b-b7deec4f4c2e",
   "metadata": {},
   "outputs": [],
   "source": []
  }
 ],
 "metadata": {
  "kernelspec": {
   "display_name": "Python 3 (ipykernel)",
   "language": "python",
   "name": "python3"
  },
  "language_info": {
   "codemirror_mode": {
    "name": "ipython",
    "version": 3
   },
   "file_extension": ".py",
   "mimetype": "text/x-python",
   "name": "python",
   "nbconvert_exporter": "python",
   "pygments_lexer": "ipython3",
   "version": "3.11.4"
  }
 },
 "nbformat": 4,
 "nbformat_minor": 5
}
