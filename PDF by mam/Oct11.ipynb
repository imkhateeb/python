{
 "cells": [
  {
   "cell_type": "code",
   "execution_count": 2,
   "id": "8cc6f58a-1307-48ce-ad4f-908d53e7ab88",
   "metadata": {},
   "outputs": [],
   "source": [
    "D1={\"a\":20,\"b\":20,\"c\":30}"
   ]
  },
  {
   "cell_type": "code",
   "execution_count": 3,
   "id": "63ecee60-3f6a-40b9-bd50-b01cdbadaec0",
   "metadata": {},
   "outputs": [
    {
     "data": {
      "text/plain": [
       "{'a': 20, 'b': 20, 'c': 30}"
      ]
     },
     "execution_count": 3,
     "metadata": {},
     "output_type": "execute_result"
    }
   ],
   "source": [
    "D1"
   ]
  },
  {
   "cell_type": "code",
   "execution_count": 4,
   "id": "c9475bbd-ca4e-4dc7-b1d2-fdbc871853ba",
   "metadata": {},
   "outputs": [
    {
     "data": {
      "text/plain": [
       "20"
      ]
     },
     "execution_count": 4,
     "metadata": {},
     "output_type": "execute_result"
    }
   ],
   "source": [
    "D1['a']"
   ]
  },
  {
   "cell_type": "code",
   "execution_count": 5,
   "id": "8719a515-f52d-47d0-ae50-407ac4b8ccab",
   "metadata": {},
   "outputs": [],
   "source": [
    "D2={1:20,2:30,3:40}"
   ]
  },
  {
   "cell_type": "code",
   "execution_count": 6,
   "id": "bda89114-e6c7-4af6-9aaa-608e075f4050",
   "metadata": {},
   "outputs": [
    {
     "data": {
      "text/plain": [
       "{1: 20, 2: 30, 3: 40}"
      ]
     },
     "execution_count": 6,
     "metadata": {},
     "output_type": "execute_result"
    }
   ],
   "source": [
    "D2"
   ]
  },
  {
   "cell_type": "code",
   "execution_count": 7,
   "id": "e408e6d8-b188-489c-a442-75aa78e47855",
   "metadata": {},
   "outputs": [
    {
     "ename": "SyntaxError",
     "evalue": "expression cannot contain assignment, perhaps you meant \"==\"? (465047271.py, line 1)",
     "output_type": "error",
     "traceback": [
      "\u001b[1;36m  Cell \u001b[1;32mIn[7], line 1\u001b[1;36m\u001b[0m\n\u001b[1;33m    D3=dict(1=20,2=30,3=40)\u001b[0m\n\u001b[1;37m            ^\u001b[0m\n\u001b[1;31mSyntaxError\u001b[0m\u001b[1;31m:\u001b[0m expression cannot contain assignment, perhaps you meant \"==\"?\n"
     ]
    }
   ],
   "source": [
    "D3=dict(1=20,2=30,3=40)"
   ]
  },
  {
   "cell_type": "code",
   "execution_count": 9,
   "id": "0874dddc-5bb6-431f-88e5-ecbb69e3d1ba",
   "metadata": {},
   "outputs": [],
   "source": [
    "D4=dict(Name=\"Shakti\",RollNo=1041,Marks=82)"
   ]
  },
  {
   "cell_type": "code",
   "execution_count": 10,
   "id": "79e0ddc9-3c5e-4830-8cd0-be821ea02fb3",
   "metadata": {},
   "outputs": [
    {
     "data": {
      "text/plain": [
       "{'Name': 'Shakti', 'RollNo': 1041, 'Marks': 82}"
      ]
     },
     "execution_count": 10,
     "metadata": {},
     "output_type": "execute_result"
    }
   ],
   "source": [
    "D4"
   ]
  },
  {
   "cell_type": "code",
   "execution_count": 11,
   "id": "37f9a4c1-0b79-48ce-9632-f5f17300b434",
   "metadata": {},
   "outputs": [],
   "source": [
    "D4['Name']=\"Gaurang\""
   ]
  },
  {
   "cell_type": "code",
   "execution_count": 12,
   "id": "85e0fa05-4b9d-4457-9846-9420997f70ac",
   "metadata": {},
   "outputs": [],
   "source": [
    "D4['RollNo']=3001"
   ]
  },
  {
   "cell_type": "code",
   "execution_count": 13,
   "id": "c0ef8808-bf7d-4e14-ab62-42e128c6a190",
   "metadata": {},
   "outputs": [
    {
     "data": {
      "text/plain": [
       "{'Name': 'Gaurang', 'RollNo': 3001, 'Marks': 82}"
      ]
     },
     "execution_count": 13,
     "metadata": {},
     "output_type": "execute_result"
    }
   ],
   "source": [
    "D4"
   ]
  },
  {
   "cell_type": "code",
   "execution_count": 15,
   "id": "10fa7707-ac4f-482c-98d8-0fa9c4b9259f",
   "metadata": {},
   "outputs": [
    {
     "name": "stdout",
     "output_type": "stream",
     "text": [
      "Name\n",
      "RollNo\n",
      "Marks\n"
     ]
    }
   ],
   "source": [
    "for i in D4.keys():\n",
    "    print(i)"
   ]
  },
  {
   "cell_type": "code",
   "execution_count": 20,
   "id": "c7e78f97-cd82-46f7-999f-825244dc743f",
   "metadata": {},
   "outputs": [
    {
     "name": "stdout",
     "output_type": "stream",
     "text": [
      "Name Gaurang\n",
      "RollNo 3001\n",
      "Marks 82\n"
     ]
    }
   ],
   "source": [
    "for i in D4:\n",
    "    print(i,D4[i])"
   ]
  },
  {
   "cell_type": "code",
   "execution_count": 18,
   "id": "709d59dd-b8df-499c-8726-0b885fb42c37",
   "metadata": {},
   "outputs": [
    {
     "name": "stdout",
     "output_type": "stream",
     "text": [
      "Gaurang\n",
      "3001\n",
      "82\n"
     ]
    }
   ],
   "source": [
    "for i in D4.values():\n",
    "    print(i)"
   ]
  },
  {
   "cell_type": "code",
   "execution_count": 19,
   "id": "ee40f345-6272-458c-bbbf-876040dfa023",
   "metadata": {},
   "outputs": [
    {
     "name": "stdout",
     "output_type": "stream",
     "text": [
      "Name Gaurang\n",
      "RollNo 3001\n",
      "Marks 82\n"
     ]
    }
   ],
   "source": [
    "for k,v in D4.items():\n",
    "    print(k,v)"
   ]
  },
  {
   "cell_type": "code",
   "execution_count": 22,
   "id": "f18c3a51-71f1-4655-972d-fde3e86fc102",
   "metadata": {},
   "outputs": [],
   "source": [
    "S1=dict(Name=\"Sumit\",RollNo=1059,Marks=75)"
   ]
  },
  {
   "cell_type": "code",
   "execution_count": 23,
   "id": "4060af9f-1999-4c12-ab98-5986b4a4be4b",
   "metadata": {},
   "outputs": [],
   "source": [
    "S2=dict(Name=\"Vanshika\",RollNo=1064,Marks=80)"
   ]
  },
  {
   "cell_type": "code",
   "execution_count": 24,
   "id": "c3a84366-e2da-44d1-8b9f-db1d58a1b1f0",
   "metadata": {},
   "outputs": [],
   "source": [
    "S3=dict(Name=\"Yash\",RollNo=1071,Marks=85)"
   ]
  },
  {
   "cell_type": "code",
   "execution_count": 25,
   "id": "08ed787c-ec89-404a-a04b-8d1d2148152c",
   "metadata": {},
   "outputs": [
    {
     "data": {
      "text/plain": [
       "{'Name': 'Sumit', 'RollNo': 1059, 'Marks': 75}"
      ]
     },
     "execution_count": 25,
     "metadata": {},
     "output_type": "execute_result"
    }
   ],
   "source": [
    "S1"
   ]
  },
  {
   "cell_type": "code",
   "execution_count": 26,
   "id": "e39a37bc-0da9-4c4f-83fc-9d8c0adfb87e",
   "metadata": {},
   "outputs": [
    {
     "data": {
      "text/plain": [
       "{'Name': 'Vanshika', 'RollNo': 1064, 'Marks': 80}"
      ]
     },
     "execution_count": 26,
     "metadata": {},
     "output_type": "execute_result"
    }
   ],
   "source": [
    "S2"
   ]
  },
  {
   "cell_type": "code",
   "execution_count": 27,
   "id": "0a7e9090-1be8-402b-a4bf-83de521e523e",
   "metadata": {},
   "outputs": [
    {
     "data": {
      "text/plain": [
       "{'Name': 'Yash', 'RollNo': 1071, 'Marks': 85}"
      ]
     },
     "execution_count": 27,
     "metadata": {},
     "output_type": "execute_result"
    }
   ],
   "source": [
    "S3"
   ]
  },
  {
   "cell_type": "code",
   "execution_count": 28,
   "id": "f45e0089-6ea5-49e0-a317-1e3e45ed63be",
   "metadata": {},
   "outputs": [],
   "source": [
    "D1=dict(I=S1,II=S2,III=S3)"
   ]
  },
  {
   "cell_type": "code",
   "execution_count": 29,
   "id": "93252669-18f7-4be6-86d8-a6b05345a788",
   "metadata": {},
   "outputs": [
    {
     "data": {
      "text/plain": [
       "{'I': {'Name': 'Sumit', 'RollNo': 1059, 'Marks': 75},\n",
       " 'II': {'Name': 'Vanshika', 'RollNo': 1064, 'Marks': 80},\n",
       " 'III': {'Name': 'Yash', 'RollNo': 1071, 'Marks': 85}}"
      ]
     },
     "execution_count": 29,
     "metadata": {},
     "output_type": "execute_result"
    }
   ],
   "source": [
    "D1"
   ]
  },
  {
   "cell_type": "code",
   "execution_count": 30,
   "id": "4bc411c9-29db-4451-a6bb-b8de0e71fecf",
   "metadata": {},
   "outputs": [
    {
     "name": "stdout",
     "output_type": "stream",
     "text": [
      "I {'Name': 'Sumit', 'RollNo': 1059, 'Marks': 75}\n",
      "II {'Name': 'Vanshika', 'RollNo': 1064, 'Marks': 80}\n",
      "III {'Name': 'Yash', 'RollNo': 1071, 'Marks': 85}\n"
     ]
    }
   ],
   "source": [
    "for s in D1:\n",
    "    print(s,D1[s])"
   ]
  },
  {
   "cell_type": "code",
   "execution_count": 31,
   "id": "978837da-228b-442e-91cf-8bcb69a5f0be",
   "metadata": {},
   "outputs": [
    {
     "name": "stdout",
     "output_type": "stream",
     "text": [
      "Sumit\n",
      "Vanshika\n",
      "Yash\n"
     ]
    }
   ],
   "source": [
    "for s in D1.values():\n",
    "    print(s['Name'])"
   ]
  },
  {
   "cell_type": "code",
   "execution_count": 32,
   "id": "37a4c59a-f921-4b8b-bf4a-75d48d514dea",
   "metadata": {},
   "outputs": [
    {
     "ename": "SyntaxError",
     "evalue": "can't use starred expression here (2447220702.py, line 1)",
     "output_type": "error",
     "traceback": [
      "\u001b[1;36m  Cell \u001b[1;32mIn[32], line 1\u001b[1;36m\u001b[0m\n\u001b[1;33m    *S1\u001b[0m\n\u001b[1;37m    ^\u001b[0m\n\u001b[1;31mSyntaxError\u001b[0m\u001b[1;31m:\u001b[0m can't use starred expression here\n"
     ]
    }
   ],
   "source": [
    "*S1"
   ]
  },
  {
   "cell_type": "code",
   "execution_count": 33,
   "id": "ffda6fb1-40db-4bac-b363-11d2aef33ae3",
   "metadata": {},
   "outputs": [
    {
     "ename": "SyntaxError",
     "evalue": "invalid syntax (1328712469.py, line 1)",
     "output_type": "error",
     "traceback": [
      "\u001b[1;36m  Cell \u001b[1;32mIn[33], line 1\u001b[1;36m\u001b[0m\n\u001b[1;33m    **S1\u001b[0m\n\u001b[1;37m    ^\u001b[0m\n\u001b[1;31mSyntaxError\u001b[0m\u001b[1;31m:\u001b[0m invalid syntax\n"
     ]
    }
   ],
   "source": [
    "**S1"
   ]
  },
  {
   "cell_type": "code",
   "execution_count": 34,
   "id": "d242b7e3-68d7-46b6-80fb-55c51e3f27da",
   "metadata": {},
   "outputs": [
    {
     "data": {
      "text/plain": [
       "['Name', 'RollNo', 'Marks']"
      ]
     },
     "execution_count": 34,
     "metadata": {},
     "output_type": "execute_result"
    }
   ],
   "source": [
    "[*S1]"
   ]
  },
  {
   "cell_type": "code",
   "execution_count": 35,
   "id": "b5d4249c-f742-4851-b562-fe9fce53f3d1",
   "metadata": {},
   "outputs": [
    {
     "data": {
      "text/plain": [
       "{'Marks', 'Name', 'RollNo'}"
      ]
     },
     "execution_count": 35,
     "metadata": {},
     "output_type": "execute_result"
    }
   ],
   "source": [
    "{*S1}"
   ]
  },
  {
   "cell_type": "code",
   "execution_count": 36,
   "id": "a417be82-0699-489d-8484-9cf8957801a3",
   "metadata": {},
   "outputs": [
    {
     "data": {
      "text/plain": [
       "{'Name': 'Sumit', 'RollNo': 1059, 'Marks': 75}"
      ]
     },
     "execution_count": 36,
     "metadata": {},
     "output_type": "execute_result"
    }
   ],
   "source": [
    "{**S1}"
   ]
  },
  {
   "cell_type": "code",
   "execution_count": 37,
   "id": "c0e8869e-8049-4b04-a2f5-0d80f3e79781",
   "metadata": {},
   "outputs": [],
   "source": [
    "D2={**S1,**S2,**S3}"
   ]
  },
  {
   "cell_type": "code",
   "execution_count": 38,
   "id": "6306df45-2b4a-4097-97e7-e0b020ed6409",
   "metadata": {},
   "outputs": [
    {
     "data": {
      "text/plain": [
       "{'Name': 'Yash', 'RollNo': 1071, 'Marks': 85}"
      ]
     },
     "execution_count": 38,
     "metadata": {},
     "output_type": "execute_result"
    }
   ],
   "source": [
    "D2"
   ]
  },
  {
   "cell_type": "code",
   "execution_count": 39,
   "id": "2b80bd17-c279-4b65-8ced-8b3ac1627df1",
   "metadata": {},
   "outputs": [
    {
     "data": {
      "text/plain": [
       "{'Name': 'Sumit', 'RollNo': 1059, 'Marks': 75}"
      ]
     },
     "execution_count": 39,
     "metadata": {},
     "output_type": "execute_result"
    }
   ],
   "source": [
    "S1"
   ]
  },
  {
   "cell_type": "code",
   "execution_count": 40,
   "id": "f5a74979-8536-4824-bd22-d6e013c5713d",
   "metadata": {},
   "outputs": [],
   "source": [
    "S4=S1"
   ]
  },
  {
   "cell_type": "code",
   "execution_count": 41,
   "id": "cc91d144-0e67-4bd3-b4e9-e80a7924c09d",
   "metadata": {},
   "outputs": [
    {
     "data": {
      "text/plain": [
       "{'Name': 'Sumit', 'RollNo': 1059, 'Marks': 75}"
      ]
     },
     "execution_count": 41,
     "metadata": {},
     "output_type": "execute_result"
    }
   ],
   "source": [
    "S4"
   ]
  },
  {
   "cell_type": "code",
   "execution_count": 42,
   "id": "b134d0f0-26af-4ce2-893f-e0e310e70382",
   "metadata": {},
   "outputs": [],
   "source": [
    "S5={}"
   ]
  },
  {
   "cell_type": "code",
   "execution_count": 43,
   "id": "f8ce8708-6ad8-4d3b-90f5-cc8f77ecdeed",
   "metadata": {},
   "outputs": [],
   "source": [
    "S5={**S2}"
   ]
  },
  {
   "cell_type": "code",
   "execution_count": 44,
   "id": "68ab38a2-8e6f-4e3f-b7fc-d5464d3aa752",
   "metadata": {},
   "outputs": [
    {
     "data": {
      "text/plain": [
       "2425512439616"
      ]
     },
     "execution_count": 44,
     "metadata": {},
     "output_type": "execute_result"
    }
   ],
   "source": [
    "id(S5)"
   ]
  },
  {
   "cell_type": "code",
   "execution_count": 45,
   "id": "cd674a56-727d-47d3-8d66-369228912e75",
   "metadata": {},
   "outputs": [
    {
     "data": {
      "text/plain": [
       "2425512495360"
      ]
     },
     "execution_count": 45,
     "metadata": {},
     "output_type": "execute_result"
    }
   ],
   "source": [
    "id(S2)"
   ]
  },
  {
   "cell_type": "code",
   "execution_count": 46,
   "id": "4a4f4cb0-610e-4a1d-9da1-fdffdcc48250",
   "metadata": {},
   "outputs": [
    {
     "ename": "TypeError",
     "evalue": "'>' not supported between instances of 'dict' and 'dict'",
     "output_type": "error",
     "traceback": [
      "\u001b[1;31m---------------------------------------------------------------------------\u001b[0m",
      "\u001b[1;31mTypeError\u001b[0m                                 Traceback (most recent call last)",
      "Cell \u001b[1;32mIn[46], line 1\u001b[0m\n\u001b[1;32m----> 1\u001b[0m \u001b[43mS2\u001b[49m\u001b[38;5;241;43m>\u001b[39;49m\u001b[43mS1\u001b[49m\n",
      "\u001b[1;31mTypeError\u001b[0m: '>' not supported between instances of 'dict' and 'dict'"
     ]
    }
   ],
   "source": [
    "S2>S1"
   ]
  },
  {
   "cell_type": "code",
   "execution_count": 47,
   "id": "7149b654-9491-4697-9461-dba8f7e205a5",
   "metadata": {},
   "outputs": [
    {
     "data": {
      "text/plain": [
       "False"
      ]
     },
     "execution_count": 47,
     "metadata": {},
     "output_type": "execute_result"
    }
   ],
   "source": [
    "S2==S1"
   ]
  },
  {
   "cell_type": "code",
   "execution_count": 48,
   "id": "0e46357c-c544-4c87-8533-bee159a9a4e6",
   "metadata": {},
   "outputs": [
    {
     "data": {
      "text/plain": [
       "False"
      ]
     },
     "execution_count": 48,
     "metadata": {},
     "output_type": "execute_result"
    }
   ],
   "source": [
    "S2 is S1"
   ]
  },
  {
   "cell_type": "code",
   "execution_count": 49,
   "id": "16876fa9-0eb8-4d3c-8793-db0a426c7dd2",
   "metadata": {},
   "outputs": [],
   "source": [
    "D1={n:n*n for n in range(1,10)}"
   ]
  },
  {
   "cell_type": "code",
   "execution_count": 50,
   "id": "cc5d12ad-473a-4f1f-925a-6e6028c0a81a",
   "metadata": {},
   "outputs": [
    {
     "data": {
      "text/plain": [
       "{1: 1, 2: 4, 3: 9, 4: 16, 5: 25, 6: 36, 7: 49, 8: 64, 9: 81}"
      ]
     },
     "execution_count": 50,
     "metadata": {},
     "output_type": "execute_result"
    }
   ],
   "source": [
    "D1"
   ]
  },
  {
   "cell_type": "code",
   "execution_count": 51,
   "id": "8cb0e0ba-71fb-4926-848b-716c8d4f700f",
   "metadata": {},
   "outputs": [],
   "source": [
    "D2={(n,n+1):n*n for n in range(1,10)}"
   ]
  },
  {
   "cell_type": "code",
   "execution_count": 52,
   "id": "eedbaab0-b25b-4913-8c35-5f7a1b582b7f",
   "metadata": {},
   "outputs": [
    {
     "data": {
      "text/plain": [
       "{(1, 2): 1,\n",
       " (2, 3): 4,\n",
       " (3, 4): 9,\n",
       " (4, 5): 16,\n",
       " (5, 6): 25,\n",
       " (6, 7): 36,\n",
       " (7, 8): 49,\n",
       " (8, 9): 64,\n",
       " (9, 10): 81}"
      ]
     },
     "execution_count": 52,
     "metadata": {},
     "output_type": "execute_result"
    }
   ],
   "source": [
    "D2"
   ]
  },
  {
   "cell_type": "code",
   "execution_count": 53,
   "id": "978ab04e-e463-454d-8ffb-baeb48e9397a",
   "metadata": {},
   "outputs": [],
   "source": [
    "D3={n:n*n for n in range(1,10) if n%2==0}"
   ]
  },
  {
   "cell_type": "code",
   "execution_count": 54,
   "id": "8f08f70b-e9c8-4087-ba84-4df618af65ed",
   "metadata": {},
   "outputs": [
    {
     "data": {
      "text/plain": [
       "{2: 4, 4: 16, 6: 36, 8: 64}"
      ]
     },
     "execution_count": 54,
     "metadata": {},
     "output_type": "execute_result"
    }
   ],
   "source": [
    "D3"
   ]
  },
  {
   "cell_type": "code",
   "execution_count": 57,
   "id": "17e0722f-317c-48fe-8a5b-b863f08f2f4d",
   "metadata": {},
   "outputs": [
    {
     "ename": "SyntaxError",
     "evalue": "invalid syntax (638733233.py, line 1)",
     "output_type": "error",
     "traceback": [
      "\u001b[1;36m  Cell \u001b[1;32mIn[57], line 1\u001b[1;36m\u001b[0m\n\u001b[1;33m    D4={n:n*n if n<5 else n:n*n*n for n in range(1,10)}\u001b[0m\n\u001b[1;37m                           ^\u001b[0m\n\u001b[1;31mSyntaxError\u001b[0m\u001b[1;31m:\u001b[0m invalid syntax\n"
     ]
    }
   ],
   "source": [
    "D4={n:n*n if n<5 else n:n*n*n for n in range(1,10)}"
   ]
  },
  {
   "cell_type": "code",
   "execution_count": 2,
   "id": "279b63ea-7208-420b-b5b8-035e84afbd23",
   "metadata": {},
   "outputs": [],
   "source": [
    "D5={n:(n*n if n<5 else n*n*n) for n in range(1,10)}"
   ]
  },
  {
   "cell_type": "code",
   "execution_count": 3,
   "id": "9607f668-fa3d-48fc-804c-2190e8c6b555",
   "metadata": {},
   "outputs": [
    {
     "data": {
      "text/plain": [
       "{1: 1, 2: 4, 3: 9, 4: 16, 5: 125, 6: 216, 7: 343, 8: 512, 9: 729}"
      ]
     },
     "execution_count": 3,
     "metadata": {},
     "output_type": "execute_result"
    }
   ],
   "source": [
    "D5"
   ]
  },
  {
   "cell_type": "code",
   "execution_count": 5,
   "id": "75916de8-a664-4420-a5b1-ed21f9a95f65",
   "metadata": {},
   "outputs": [],
   "source": [
    "D1=dict(a=10,b=20,c=30)"
   ]
  },
  {
   "cell_type": "code",
   "execution_count": 6,
   "id": "bd41ee22-30dc-4545-89bb-2e3ccca8f730",
   "metadata": {},
   "outputs": [],
   "source": [
    "D2=dict(p=10,q=20,r=30)"
   ]
  },
  {
   "cell_type": "code",
   "execution_count": 7,
   "id": "89599a99-2051-46ff-b862-fa39e1617b44",
   "metadata": {},
   "outputs": [
    {
     "ename": "TypeError",
     "evalue": "unsupported operand type(s) for +: 'dict' and 'dict'",
     "output_type": "error",
     "traceback": [
      "\u001b[1;31m---------------------------------------------------------------------------\u001b[0m",
      "\u001b[1;31mTypeError\u001b[0m                                 Traceback (most recent call last)",
      "Cell \u001b[1;32mIn[7], line 1\u001b[0m\n\u001b[1;32m----> 1\u001b[0m D3\u001b[38;5;241m=\u001b[39m\u001b[43mD1\u001b[49m\u001b[38;5;241;43m+\u001b[39;49m\u001b[43mD2\u001b[49m\n",
      "\u001b[1;31mTypeError\u001b[0m: unsupported operand type(s) for +: 'dict' and 'dict'"
     ]
    }
   ],
   "source": [
    "D3=D1+D2"
   ]
  },
  {
   "cell_type": "code",
   "execution_count": 8,
   "id": "35a31bb9-32cc-47dd-8daa-284b7503c988",
   "metadata": {},
   "outputs": [],
   "source": [
    "D3={**D1,**D2}"
   ]
  },
  {
   "cell_type": "code",
   "execution_count": 9,
   "id": "e6b95547-b6cf-4d88-bd7b-65e8c543e6ed",
   "metadata": {},
   "outputs": [
    {
     "data": {
      "text/plain": [
       "{'a': 10, 'b': 20, 'c': 30, 'p': 10, 'q': 20, 'r': 30}"
      ]
     },
     "execution_count": 9,
     "metadata": {},
     "output_type": "execute_result"
    }
   ],
   "source": [
    "D3"
   ]
  },
  {
   "cell_type": "code",
   "execution_count": 10,
   "id": "5a818c24-db3f-4a47-890e-0cfefd120c85",
   "metadata": {},
   "outputs": [],
   "source": [
    "D22=D2.copy()"
   ]
  },
  {
   "cell_type": "code",
   "execution_count": 11,
   "id": "6c0a4058-a3d0-48f1-9e29-ba3dcbd112db",
   "metadata": {},
   "outputs": [
    {
     "data": {
      "text/plain": [
       "{'p': 10, 'q': 20, 'r': 30}"
      ]
     },
     "execution_count": 11,
     "metadata": {},
     "output_type": "execute_result"
    }
   ],
   "source": [
    "D22"
   ]
  },
  {
   "cell_type": "code",
   "execution_count": 13,
   "id": "3b6d9e5e-f5eb-4ae2-ae4f-a7ffd1b1655a",
   "metadata": {},
   "outputs": [
    {
     "name": "stdout",
     "output_type": "stream",
     "text": [
      "2016400231232 2016405790976\n"
     ]
    }
   ],
   "source": [
    "print(id(D2),id(D22))"
   ]
  },
  {
   "cell_type": "code",
   "execution_count": 14,
   "id": "d702a365-3f42-489c-b727-052ee76abd95",
   "metadata": {},
   "outputs": [],
   "source": [
    "D22.clear()"
   ]
  },
  {
   "cell_type": "code",
   "execution_count": 15,
   "id": "ad859859-5a62-482c-a52d-4491daf94cc3",
   "metadata": {},
   "outputs": [
    {
     "data": {
      "text/plain": [
       "{}"
      ]
     },
     "execution_count": 15,
     "metadata": {},
     "output_type": "execute_result"
    }
   ],
   "source": [
    "D22"
   ]
  },
  {
   "cell_type": "code",
   "execution_count": 16,
   "id": "ae5abd64-98b6-44f4-b934-68aa3891b1be",
   "metadata": {},
   "outputs": [],
   "source": [
    "del(D22)"
   ]
  },
  {
   "cell_type": "code",
   "execution_count": 17,
   "id": "841a67d4-46e2-41cd-8cfc-5f47490cd5cb",
   "metadata": {},
   "outputs": [
    {
     "ename": "NameError",
     "evalue": "name 'D22' is not defined",
     "output_type": "error",
     "traceback": [
      "\u001b[1;31m---------------------------------------------------------------------------\u001b[0m",
      "\u001b[1;31mNameError\u001b[0m                                 Traceback (most recent call last)",
      "Cell \u001b[1;32mIn[17], line 1\u001b[0m\n\u001b[1;32m----> 1\u001b[0m \u001b[43mD22\u001b[49m\n",
      "\u001b[1;31mNameError\u001b[0m: name 'D22' is not defined"
     ]
    }
   ],
   "source": [
    "D22"
   ]
  },
  {
   "cell_type": "code",
   "execution_count": 18,
   "id": "da85de16-9a59-41bb-8456-36fa8ccafd33",
   "metadata": {},
   "outputs": [],
   "source": [
    "T1=1,2,3"
   ]
  },
  {
   "cell_type": "code",
   "execution_count": 19,
   "id": "fbcc23b3-0874-4489-8de1-ffdf667da1c6",
   "metadata": {},
   "outputs": [
    {
     "ename": "TypeError",
     "evalue": "cannot convert dictionary update sequence element #0 to a sequence",
     "output_type": "error",
     "traceback": [
      "\u001b[1;31m---------------------------------------------------------------------------\u001b[0m",
      "\u001b[1;31mTypeError\u001b[0m                                 Traceback (most recent call last)",
      "Cell \u001b[1;32mIn[19], line 1\u001b[0m\n\u001b[1;32m----> 1\u001b[0m \u001b[43mD1\u001b[49m\u001b[38;5;241;43m.\u001b[39;49m\u001b[43mupdate\u001b[49m\u001b[43m(\u001b[49m\u001b[43mT1\u001b[49m\u001b[43m)\u001b[49m\n",
      "\u001b[1;31mTypeError\u001b[0m: cannot convert dictionary update sequence element #0 to a sequence"
     ]
    }
   ],
   "source": [
    "D1.update(T1)"
   ]
  },
  {
   "cell_type": "code",
   "execution_count": 21,
   "id": "033cba91-9dc1-4761-8a91-1814d8370be8",
   "metadata": {},
   "outputs": [],
   "source": [
    "D11={'d':40}"
   ]
  },
  {
   "cell_type": "code",
   "execution_count": 22,
   "id": "5d7eacd3-6a15-4ef7-8160-b43f0d5b821d",
   "metadata": {},
   "outputs": [],
   "source": [
    "D1.update(D11)"
   ]
  },
  {
   "cell_type": "code",
   "execution_count": 23,
   "id": "52a7306f-637f-4c6e-8a3d-bf848faefb5d",
   "metadata": {},
   "outputs": [
    {
     "data": {
      "text/plain": [
       "{'a': 10, 'b': 20, 'c': 30, 'd': 40}"
      ]
     },
     "execution_count": 23,
     "metadata": {},
     "output_type": "execute_result"
    }
   ],
   "source": [
    "D1"
   ]
  },
  {
   "cell_type": "code",
   "execution_count": 24,
   "id": "f848df0a-f24e-44b2-8c87-c54b205daa4f",
   "metadata": {},
   "outputs": [],
   "source": [
    "D1.update(D2)"
   ]
  },
  {
   "cell_type": "code",
   "execution_count": 25,
   "id": "0e2f0f5a-878d-42f8-947d-36b5296dd942",
   "metadata": {},
   "outputs": [
    {
     "data": {
      "text/plain": [
       "{'a': 10, 'b': 20, 'c': 30, 'd': 40, 'p': 10, 'q': 20, 'r': 30}"
      ]
     },
     "execution_count": 25,
     "metadata": {},
     "output_type": "execute_result"
    }
   ],
   "source": [
    "D1"
   ]
  },
  {
   "cell_type": "code",
   "execution_count": 26,
   "id": "6904a4ec-f9bc-4ba4-a38f-bde2d0947269",
   "metadata": {},
   "outputs": [
    {
     "data": {
      "text/plain": [
       "('r', 30)"
      ]
     },
     "execution_count": 26,
     "metadata": {},
     "output_type": "execute_result"
    }
   ],
   "source": [
    "D1.popitem()"
   ]
  },
  {
   "cell_type": "code",
   "execution_count": 27,
   "id": "b04f145c-eb14-4fd2-b663-90b45b8e9fac",
   "metadata": {},
   "outputs": [
    {
     "data": {
      "text/plain": [
       "{'a': 10, 'b': 20, 'c': 30, 'd': 40, 'p': 10, 'q': 20}"
      ]
     },
     "execution_count": 27,
     "metadata": {},
     "output_type": "execute_result"
    }
   ],
   "source": [
    "D1"
   ]
  },
  {
   "cell_type": "code",
   "execution_count": 28,
   "id": "786d77c0-85b2-4e40-9338-9e462a432b6b",
   "metadata": {},
   "outputs": [
    {
     "data": {
      "text/plain": [
       "('q', 20)"
      ]
     },
     "execution_count": 28,
     "metadata": {},
     "output_type": "execute_result"
    }
   ],
   "source": [
    "D1.popitem()"
   ]
  },
  {
   "cell_type": "code",
   "execution_count": 29,
   "id": "57eb975c-778e-4e4e-bda1-4f4f1320038c",
   "metadata": {},
   "outputs": [
    {
     "data": {
      "text/plain": [
       "{'a': 10, 'b': 20, 'c': 30, 'd': 40, 'p': 10}"
      ]
     },
     "execution_count": 29,
     "metadata": {},
     "output_type": "execute_result"
    }
   ],
   "source": [
    "D1"
   ]
  },
  {
   "cell_type": "code",
   "execution_count": 30,
   "id": "e51d3902-e74d-4206-9252-7b4867534877",
   "metadata": {},
   "outputs": [
    {
     "data": {
      "text/plain": [
       "10"
      ]
     },
     "execution_count": 30,
     "metadata": {},
     "output_type": "execute_result"
    }
   ],
   "source": [
    "D1.pop('a')"
   ]
  },
  {
   "cell_type": "code",
   "execution_count": 31,
   "id": "a69cd805-788f-47f4-8d4d-2c200694cc40",
   "metadata": {},
   "outputs": [
    {
     "data": {
      "text/plain": [
       "{'b': 20, 'c': 30, 'd': 40, 'p': 10}"
      ]
     },
     "execution_count": 31,
     "metadata": {},
     "output_type": "execute_result"
    }
   ],
   "source": [
    "D1"
   ]
  },
  {
   "cell_type": "code",
   "execution_count": null,
   "id": "395535a6-fbee-4302-a4b0-4801ee862652",
   "metadata": {},
   "outputs": [],
   "source": []
  }
 ],
 "metadata": {
  "kernelspec": {
   "display_name": "Python 3 (ipykernel)",
   "language": "python",
   "name": "python3"
  },
  "language_info": {
   "codemirror_mode": {
    "name": "ipython",
    "version": 3
   },
   "file_extension": ".py",
   "mimetype": "text/x-python",
   "name": "python",
   "nbconvert_exporter": "python",
   "pygments_lexer": "ipython3",
   "version": "3.11.4"
  }
 },
 "nbformat": 4,
 "nbformat_minor": 5
}
