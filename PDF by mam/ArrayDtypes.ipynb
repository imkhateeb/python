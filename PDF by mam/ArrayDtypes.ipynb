{
 "cells": [
  {
   "cell_type": "code",
   "execution_count": 66,
   "id": "da6e09b6-8c65-4b77-b417-4721faded1f4",
   "metadata": {},
   "outputs": [],
   "source": [
    "import numpy as np"
   ]
  },
  {
   "cell_type": "code",
   "execution_count": 67,
   "id": "6f2e4a89-f94d-4ac4-bfca-70cce852be19",
   "metadata": {},
   "outputs": [],
   "source": [
    "L=[1,2,3,4,5]"
   ]
  },
  {
   "cell_type": "code",
   "execution_count": 68,
   "id": "923b385f-3363-463f-8996-91195360b599",
   "metadata": {},
   "outputs": [
    {
     "data": {
      "text/plain": [
       "array([1, 2, 3, 4, 5])"
      ]
     },
     "execution_count": 68,
     "metadata": {},
     "output_type": "execute_result"
    }
   ],
   "source": [
    "np.array(L)"
   ]
  },
  {
   "cell_type": "code",
   "execution_count": 69,
   "id": "facc131c-cd92-4117-aebd-ef8928cb2731",
   "metadata": {},
   "outputs": [],
   "source": [
    "A=np.array(L)"
   ]
  },
  {
   "cell_type": "code",
   "execution_count": 70,
   "id": "610922f7-8b39-461b-99d4-7ca86aa80e40",
   "metadata": {},
   "outputs": [
    {
     "data": {
      "text/plain": [
       "array([1, 2, 3, 4, 5])"
      ]
     },
     "execution_count": 70,
     "metadata": {},
     "output_type": "execute_result"
    }
   ],
   "source": [
    "A"
   ]
  },
  {
   "cell_type": "code",
   "execution_count": 71,
   "id": "644a829c-16e6-44fb-b629-c542ce625dab",
   "metadata": {},
   "outputs": [
    {
     "data": {
      "text/plain": [
       "dtype('int32')"
      ]
     },
     "execution_count": 71,
     "metadata": {},
     "output_type": "execute_result"
    }
   ],
   "source": [
    "A.dtype"
   ]
  },
  {
   "cell_type": "code",
   "execution_count": 72,
   "id": "effb3666-4d8d-47b4-9780-ac3d1574b331",
   "metadata": {},
   "outputs": [],
   "source": [
    "L=[1,2,3,[4,5,6],7,8,9]"
   ]
  },
  {
   "cell_type": "code",
   "execution_count": 73,
   "id": "3278e6ed-740c-4a90-995a-d51962722cf2",
   "metadata": {},
   "outputs": [
    {
     "ename": "ValueError",
     "evalue": "setting an array element with a sequence. The requested array has an inhomogeneous shape after 1 dimensions. The detected shape was (7,) + inhomogeneous part.",
     "output_type": "error",
     "traceback": [
      "\u001b[1;31m---------------------------------------------------------------------------\u001b[0m",
      "\u001b[1;31mValueError\u001b[0m                                Traceback (most recent call last)",
      "Cell \u001b[1;32mIn[73], line 1\u001b[0m\n\u001b[1;32m----> 1\u001b[0m A\u001b[38;5;241m=\u001b[39m\u001b[43mnp\u001b[49m\u001b[38;5;241;43m.\u001b[39;49m\u001b[43marray\u001b[49m\u001b[43m(\u001b[49m\u001b[43mL\u001b[49m\u001b[43m)\u001b[49m\n",
      "\u001b[1;31mValueError\u001b[0m: setting an array element with a sequence. The requested array has an inhomogeneous shape after 1 dimensions. The detected shape was (7,) + inhomogeneous part."
     ]
    }
   ],
   "source": [
    "A=np.array(L)"
   ]
  },
  {
   "cell_type": "code",
   "execution_count": 74,
   "id": "9d60d2c5-9d36-4edf-a640-fa16f41fb6b9",
   "metadata": {},
   "outputs": [],
   "source": [
    "L=[[1,2,3],[4,5,6]]"
   ]
  },
  {
   "cell_type": "code",
   "execution_count": 75,
   "id": "d1d77fc1-baaf-4bce-855d-732088534572",
   "metadata": {},
   "outputs": [],
   "source": [
    "A=np.array(L)"
   ]
  },
  {
   "cell_type": "code",
   "execution_count": 76,
   "id": "9049ed39-32bb-43ae-9b1a-13c820169dbf",
   "metadata": {},
   "outputs": [
    {
     "data": {
      "text/plain": [
       "array([[1, 2, 3],\n",
       "       [4, 5, 6]])"
      ]
     },
     "execution_count": 76,
     "metadata": {},
     "output_type": "execute_result"
    }
   ],
   "source": [
    "A"
   ]
  },
  {
   "cell_type": "code",
   "execution_count": 77,
   "id": "d5e72c67-fc8b-45a6-bacd-dfc469dc5182",
   "metadata": {},
   "outputs": [
    {
     "data": {
      "text/plain": [
       "dtype('int32')"
      ]
     },
     "execution_count": 77,
     "metadata": {},
     "output_type": "execute_result"
    }
   ],
   "source": [
    "A.dtype"
   ]
  },
  {
   "cell_type": "code",
   "execution_count": 78,
   "id": "e1b1e8e0-177c-42e4-96b8-4a154933c082",
   "metadata": {},
   "outputs": [
    {
     "data": {
      "text/plain": [
       "2"
      ]
     },
     "execution_count": 78,
     "metadata": {},
     "output_type": "execute_result"
    }
   ],
   "source": [
    "A.ndim"
   ]
  },
  {
   "cell_type": "code",
   "execution_count": 79,
   "id": "ede834ad-3b7e-4b4d-8076-7b2d8ab0a40b",
   "metadata": {},
   "outputs": [],
   "source": [
    "S={1,2,3,4}"
   ]
  },
  {
   "cell_type": "code",
   "execution_count": 80,
   "id": "31436508-b438-4dcd-8ccc-67a0cf758548",
   "metadata": {},
   "outputs": [],
   "source": [
    "A=np.array(S)"
   ]
  },
  {
   "cell_type": "code",
   "execution_count": 81,
   "id": "70e1a91b-c851-4874-b80d-61acab17c6d1",
   "metadata": {},
   "outputs": [
    {
     "data": {
      "text/plain": [
       "array({1, 2, 3, 4}, dtype=object)"
      ]
     },
     "execution_count": 81,
     "metadata": {},
     "output_type": "execute_result"
    }
   ],
   "source": [
    "A"
   ]
  },
  {
   "cell_type": "code",
   "execution_count": 82,
   "id": "c81b0445-10ac-4766-a2d9-a12f1093bf9f",
   "metadata": {},
   "outputs": [
    {
     "data": {
      "text/plain": [
       "dtype('O')"
      ]
     },
     "execution_count": 82,
     "metadata": {},
     "output_type": "execute_result"
    }
   ],
   "source": [
    "A.dtype"
   ]
  },
  {
   "cell_type": "code",
   "execution_count": 83,
   "id": "429df5d2-72c1-43d3-8ebf-03c5ab061e46",
   "metadata": {},
   "outputs": [
    {
     "data": {
      "text/plain": [
       "0"
      ]
     },
     "execution_count": 83,
     "metadata": {},
     "output_type": "execute_result"
    }
   ],
   "source": [
    "A.ndim"
   ]
  },
  {
   "cell_type": "code",
   "execution_count": 84,
   "id": "17452b6f-1f84-43e6-84a8-56e54093b4fc",
   "metadata": {},
   "outputs": [],
   "source": [
    "T=1,2,3,4"
   ]
  },
  {
   "cell_type": "code",
   "execution_count": 85,
   "id": "e9b04977-af66-4500-aab1-41dfeab7b793",
   "metadata": {},
   "outputs": [],
   "source": [
    "A=np.array(T)"
   ]
  },
  {
   "cell_type": "code",
   "execution_count": 86,
   "id": "c8d6f13c-2586-4e98-b086-252040e2d123",
   "metadata": {},
   "outputs": [
    {
     "data": {
      "text/plain": [
       "array([1, 2, 3, 4])"
      ]
     },
     "execution_count": 86,
     "metadata": {},
     "output_type": "execute_result"
    }
   ],
   "source": [
    "A"
   ]
  },
  {
   "cell_type": "code",
   "execution_count": 87,
   "id": "2504a50f-4b0e-4f61-97e4-db843083d44b",
   "metadata": {},
   "outputs": [
    {
     "data": {
      "text/plain": [
       "1"
      ]
     },
     "execution_count": 87,
     "metadata": {},
     "output_type": "execute_result"
    }
   ],
   "source": [
    "A.ndim"
   ]
  },
  {
   "cell_type": "code",
   "execution_count": 88,
   "id": "02a1bd2f-775a-4be7-8979-837c28d1325d",
   "metadata": {},
   "outputs": [],
   "source": [
    "L='Made in India'.split()"
   ]
  },
  {
   "cell_type": "code",
   "execution_count": 89,
   "id": "41cf894e-0706-4948-abd6-39e50ffd4e4c",
   "metadata": {},
   "outputs": [
    {
     "data": {
      "text/plain": [
       "['Made', 'in', 'India']"
      ]
     },
     "execution_count": 89,
     "metadata": {},
     "output_type": "execute_result"
    }
   ],
   "source": [
    "L"
   ]
  },
  {
   "cell_type": "code",
   "execution_count": 90,
   "id": "9c810d4a-3ec3-4c35-a722-53ebe71066ce",
   "metadata": {},
   "outputs": [],
   "source": [
    "A1=np.array(L)"
   ]
  },
  {
   "cell_type": "code",
   "execution_count": 91,
   "id": "bcb0cc2a-e87f-4464-90b1-2de95dd811bc",
   "metadata": {},
   "outputs": [
    {
     "data": {
      "text/plain": [
       "array(['Made', 'in', 'India'], dtype='<U5')"
      ]
     },
     "execution_count": 91,
     "metadata": {},
     "output_type": "execute_result"
    }
   ],
   "source": [
    "A1"
   ]
  },
  {
   "cell_type": "code",
   "execution_count": 28,
   "id": "ec2f168c-deed-44a5-83cc-b8efa44e1530",
   "metadata": {},
   "outputs": [
    {
     "ename": "ValueError",
     "evalue": "invalid literal for int() with base 10: 'Made'",
     "output_type": "error",
     "traceback": [
      "\u001b[1;31m---------------------------------------------------------------------------\u001b[0m",
      "\u001b[1;31mValueError\u001b[0m                                Traceback (most recent call last)",
      "Cell \u001b[1;32mIn[28], line 1\u001b[0m\n\u001b[1;32m----> 1\u001b[0m A2\u001b[38;5;241m=\u001b[39m\u001b[43mnp\u001b[49m\u001b[38;5;241;43m.\u001b[39;49m\u001b[43marray\u001b[49m\u001b[43m(\u001b[49m\u001b[43mL\u001b[49m\u001b[43m,\u001b[49m\u001b[43mdtype\u001b[49m\u001b[38;5;241;43m=\u001b[39;49m\u001b[38;5;124;43m'\u001b[39;49m\u001b[38;5;124;43mi\u001b[39;49m\u001b[38;5;124;43m'\u001b[39;49m\u001b[43m)\u001b[49m\n",
      "\u001b[1;31mValueError\u001b[0m: invalid literal for int() with base 10: 'Made'"
     ]
    }
   ],
   "source": [
    "A2=np.array(L,dtype='i')"
   ]
  },
  {
   "cell_type": "code",
   "execution_count": 29,
   "id": "1f97c75f-f86f-4f7c-8709-59af94fe4d5e",
   "metadata": {},
   "outputs": [],
   "source": [
    "A12=np.array(A,dtype='f')"
   ]
  },
  {
   "cell_type": "code",
   "execution_count": 30,
   "id": "dbb44d38-4060-4eb7-9220-279482aa702f",
   "metadata": {},
   "outputs": [
    {
     "data": {
      "text/plain": [
       "array([1., 2., 3., 4.], dtype=float32)"
      ]
     },
     "execution_count": 30,
     "metadata": {},
     "output_type": "execute_result"
    }
   ],
   "source": [
    "A12"
   ]
  },
  {
   "cell_type": "code",
   "execution_count": 31,
   "id": "013200f4-2a63-43e3-adb6-40adfc7d6d44",
   "metadata": {},
   "outputs": [],
   "source": [
    "A13=np.array(A,dtype='complex')"
   ]
  },
  {
   "cell_type": "code",
   "execution_count": 32,
   "id": "c00ad9bf-23b6-4a6a-9970-6ad4defa0fa5",
   "metadata": {},
   "outputs": [
    {
     "data": {
      "text/plain": [
       "array([1.+0.j, 2.+0.j, 3.+0.j, 4.+0.j])"
      ]
     },
     "execution_count": 32,
     "metadata": {},
     "output_type": "execute_result"
    }
   ],
   "source": [
    "A13"
   ]
  },
  {
   "cell_type": "code",
   "execution_count": 33,
   "id": "372c3eff-6c92-44c3-a55f-550e900ee104",
   "metadata": {},
   "outputs": [
    {
     "data": {
      "text/plain": [
       "dtype('complex128')"
      ]
     },
     "execution_count": 33,
     "metadata": {},
     "output_type": "execute_result"
    }
   ],
   "source": [
    "A13.dtype"
   ]
  },
  {
   "cell_type": "code",
   "execution_count": 34,
   "id": "e1b7d839-2f41-4acc-a48f-c817902fe609",
   "metadata": {},
   "outputs": [],
   "source": [
    "A14=np.array(A,dtype='c16')"
   ]
  },
  {
   "cell_type": "code",
   "execution_count": 35,
   "id": "3aa8edcc-f693-4765-a0ce-06c496855fc1",
   "metadata": {},
   "outputs": [
    {
     "data": {
      "text/plain": [
       "array([1.+0.j, 2.+0.j, 3.+0.j, 4.+0.j])"
      ]
     },
     "execution_count": 35,
     "metadata": {},
     "output_type": "execute_result"
    }
   ],
   "source": [
    "A14"
   ]
  },
  {
   "cell_type": "code",
   "execution_count": 37,
   "id": "b1db9168-42d2-4bfb-8e7c-90d1af9cacf1",
   "metadata": {},
   "outputs": [],
   "source": [
    "A15=np.array(A,dtype='S')"
   ]
  },
  {
   "cell_type": "code",
   "execution_count": 38,
   "id": "75a96e3c-240a-4a56-bf67-9947ac783811",
   "metadata": {},
   "outputs": [
    {
     "data": {
      "text/plain": [
       "array([b'1', b'2', b'3', b'4'], dtype='|S11')"
      ]
     },
     "execution_count": 38,
     "metadata": {},
     "output_type": "execute_result"
    }
   ],
   "source": [
    "A15"
   ]
  },
  {
   "cell_type": "code",
   "execution_count": 40,
   "id": "b6c636a1-ccf7-4a91-9547-86f4a8eac8ec",
   "metadata": {},
   "outputs": [],
   "source": [
    "A15=np.array(A,dtype='U')"
   ]
  },
  {
   "cell_type": "code",
   "execution_count": 41,
   "id": "f750978b-d0db-4562-bc4f-9cb32a29cc6b",
   "metadata": {},
   "outputs": [
    {
     "data": {
      "text/plain": [
       "array(['1', '2', '3', '4'], dtype='<U11')"
      ]
     },
     "execution_count": 41,
     "metadata": {},
     "output_type": "execute_result"
    }
   ],
   "source": [
    "A15"
   ]
  },
  {
   "cell_type": "code",
   "execution_count": 42,
   "id": "f37e3672-73c1-4563-b0f3-e5068d17f5a9",
   "metadata": {},
   "outputs": [],
   "source": [
    "A16=A.astype(A13.dtype)"
   ]
  },
  {
   "cell_type": "code",
   "execution_count": 43,
   "id": "d221a21d-b060-4f66-8592-6210edcb9567",
   "metadata": {},
   "outputs": [
    {
     "data": {
      "text/plain": [
       "array([1.+0.j, 2.+0.j, 3.+0.j, 4.+0.j])"
      ]
     },
     "execution_count": 43,
     "metadata": {},
     "output_type": "execute_result"
    }
   ],
   "source": [
    "A16"
   ]
  },
  {
   "cell_type": "code",
   "execution_count": 44,
   "id": "eab40618-fe40-4c0c-8f48-e6a311861f9a",
   "metadata": {},
   "outputs": [],
   "source": [
    "L2=[0,1,2,3,4]"
   ]
  },
  {
   "cell_type": "code",
   "execution_count": 45,
   "id": "60d6fe8a-dfe1-4ed3-98da-eb8b918c4e02",
   "metadata": {},
   "outputs": [],
   "source": [
    "A22=np.array(L2,dtype=bool)"
   ]
  },
  {
   "cell_type": "code",
   "execution_count": 46,
   "id": "2c56897b-569f-4643-8424-62be20a66fa8",
   "metadata": {},
   "outputs": [
    {
     "data": {
      "text/plain": [
       "array([False,  True,  True,  True,  True])"
      ]
     },
     "execution_count": 46,
     "metadata": {},
     "output_type": "execute_result"
    }
   ],
   "source": [
    "A22"
   ]
  },
  {
   "cell_type": "code",
   "execution_count": 47,
   "id": "3581ee42-27f2-46be-9566-671f5e9c4c6b",
   "metadata": {},
   "outputs": [],
   "source": [
    "A17=A.astype(A22.dtype)"
   ]
  },
  {
   "cell_type": "code",
   "execution_count": 48,
   "id": "cf170566-cd3c-4ec6-8ba9-d2144cce23f7",
   "metadata": {},
   "outputs": [
    {
     "data": {
      "text/plain": [
       "array([ True,  True,  True,  True])"
      ]
     },
     "execution_count": 48,
     "metadata": {},
     "output_type": "execute_result"
    }
   ],
   "source": [
    "A17"
   ]
  },
  {
   "cell_type": "code",
   "execution_count": 49,
   "id": "c8666ef0-ad18-42ed-af7e-7bfa1e781f7c",
   "metadata": {},
   "outputs": [],
   "source": [
    "A=np.arange(1,37)"
   ]
  },
  {
   "cell_type": "code",
   "execution_count": 50,
   "id": "b35239a7-ff03-44bf-a87e-1e2288315835",
   "metadata": {},
   "outputs": [
    {
     "data": {
      "text/plain": [
       "array([ 1,  2,  3,  4,  5,  6,  7,  8,  9, 10, 11, 12, 13, 14, 15, 16, 17,\n",
       "       18, 19, 20, 21, 22, 23, 24, 25, 26, 27, 28, 29, 30, 31, 32, 33, 34,\n",
       "       35, 36])"
      ]
     },
     "execution_count": 50,
     "metadata": {},
     "output_type": "execute_result"
    }
   ],
   "source": [
    "A"
   ]
  },
  {
   "cell_type": "code",
   "execution_count": 51,
   "id": "9ef881eb-5eaa-45db-bc5c-43acf9eb5ee5",
   "metadata": {},
   "outputs": [
    {
     "data": {
      "text/plain": [
       "36"
      ]
     },
     "execution_count": 51,
     "metadata": {},
     "output_type": "execute_result"
    }
   ],
   "source": [
    "A.size"
   ]
  },
  {
   "cell_type": "code",
   "execution_count": 52,
   "id": "4945a6aa-c085-4f8d-b786-84525f1fa1b0",
   "metadata": {},
   "outputs": [
    {
     "data": {
      "text/plain": [
       "array([[ 1,  2,  3,  4,  5,  6],\n",
       "       [ 7,  8,  9, 10, 11, 12],\n",
       "       [13, 14, 15, 16, 17, 18],\n",
       "       [19, 20, 21, 22, 23, 24],\n",
       "       [25, 26, 27, 28, 29, 30],\n",
       "       [31, 32, 33, 34, 35, 36]])"
      ]
     },
     "execution_count": 52,
     "metadata": {},
     "output_type": "execute_result"
    }
   ],
   "source": [
    "A.reshape(6,6)"
   ]
  },
  {
   "cell_type": "code",
   "execution_count": 53,
   "id": "f6dbbc34-4702-4d8c-b3de-1a348fcd960c",
   "metadata": {},
   "outputs": [
    {
     "data": {
      "text/plain": [
       "array([ 1,  2,  3,  4,  5,  6,  7,  8,  9, 10, 11, 12, 13, 14, 15, 16, 17,\n",
       "       18, 19, 20, 21, 22, 23, 24, 25, 26, 27, 28, 29, 30, 31, 32, 33, 34,\n",
       "       35, 36])"
      ]
     },
     "execution_count": 53,
     "metadata": {},
     "output_type": "execute_result"
    }
   ],
   "source": [
    "A"
   ]
  },
  {
   "cell_type": "code",
   "execution_count": 54,
   "id": "208cf44d-a266-4373-be77-c369cc1adbde",
   "metadata": {},
   "outputs": [],
   "source": [
    "A33=A.reshape(2,3,6)"
   ]
  },
  {
   "cell_type": "code",
   "execution_count": 55,
   "id": "c7b11755-6cc8-44ff-b4e9-7d7b5dfc340b",
   "metadata": {},
   "outputs": [
    {
     "data": {
      "text/plain": [
       "array([[[ 1,  2,  3,  4,  5,  6],\n",
       "        [ 7,  8,  9, 10, 11, 12],\n",
       "        [13, 14, 15, 16, 17, 18]],\n",
       "\n",
       "       [[19, 20, 21, 22, 23, 24],\n",
       "        [25, 26, 27, 28, 29, 30],\n",
       "        [31, 32, 33, 34, 35, 36]]])"
      ]
     },
     "execution_count": 55,
     "metadata": {},
     "output_type": "execute_result"
    }
   ],
   "source": [
    "A33"
   ]
  },
  {
   "cell_type": "code",
   "execution_count": 56,
   "id": "ff7549c6-e883-491c-9e01-aaee36917f0f",
   "metadata": {},
   "outputs": [
    {
     "data": {
      "text/plain": [
       "array([[ 1,  2,  3,  4,  5,  6],\n",
       "       [ 7,  8,  9, 10, 11, 12],\n",
       "       [13, 14, 15, 16, 17, 18]])"
      ]
     },
     "execution_count": 56,
     "metadata": {},
     "output_type": "execute_result"
    }
   ],
   "source": [
    "A33[0]"
   ]
  },
  {
   "cell_type": "code",
   "execution_count": 58,
   "id": "610d2ea2-c4dc-4361-8ee6-d624b80544e2",
   "metadata": {},
   "outputs": [],
   "source": [
    "B=A.reshape(2,2,3,3)"
   ]
  },
  {
   "cell_type": "code",
   "execution_count": 59,
   "id": "8a49db58-38fd-416e-a56e-94072bb37a48",
   "metadata": {},
   "outputs": [
    {
     "data": {
      "text/plain": [
       "array([[[[ 1,  2,  3],\n",
       "         [ 4,  5,  6],\n",
       "         [ 7,  8,  9]],\n",
       "\n",
       "        [[10, 11, 12],\n",
       "         [13, 14, 15],\n",
       "         [16, 17, 18]]],\n",
       "\n",
       "\n",
       "       [[[19, 20, 21],\n",
       "         [22, 23, 24],\n",
       "         [25, 26, 27]],\n",
       "\n",
       "        [[28, 29, 30],\n",
       "         [31, 32, 33],\n",
       "         [34, 35, 36]]]])"
      ]
     },
     "execution_count": 59,
     "metadata": {},
     "output_type": "execute_result"
    }
   ],
   "source": [
    "B"
   ]
  },
  {
   "cell_type": "code",
   "execution_count": 60,
   "id": "123d5931-f25a-47fd-8898-20900c7c7ad2",
   "metadata": {},
   "outputs": [
    {
     "data": {
      "text/plain": [
       "4"
      ]
     },
     "execution_count": 60,
     "metadata": {},
     "output_type": "execute_result"
    }
   ],
   "source": [
    "B.ndim"
   ]
  },
  {
   "cell_type": "code",
   "execution_count": 61,
   "id": "7ddc091e-a362-489c-9c1a-d9df6a1c5d5a",
   "metadata": {},
   "outputs": [
    {
     "data": {
      "text/plain": [
       "dtype('int32')"
      ]
     },
     "execution_count": 61,
     "metadata": {},
     "output_type": "execute_result"
    }
   ],
   "source": [
    "B.dtype"
   ]
  },
  {
   "cell_type": "code",
   "execution_count": 62,
   "id": "ae5f20db-6958-47df-bc2e-8a8371cbc8a1",
   "metadata": {},
   "outputs": [
    {
     "ename": "TypeError",
     "evalue": "arange: scalar arguments expected instead of a tuple.",
     "output_type": "error",
     "traceback": [
      "\u001b[1;31m---------------------------------------------------------------------------\u001b[0m",
      "\u001b[1;31mTypeError\u001b[0m                                 Traceback (most recent call last)",
      "Cell \u001b[1;32mIn[62], line 1\u001b[0m\n\u001b[1;32m----> 1\u001b[0m C\u001b[38;5;241m=\u001b[39m\u001b[43mnp\u001b[49m\u001b[38;5;241;43m.\u001b[39;49m\u001b[43marange\u001b[49m\u001b[43m(\u001b[49m\u001b[43m(\u001b[49m\u001b[38;5;241;43m1\u001b[39;49m\u001b[43m,\u001b[49m\u001b[38;5;241;43m17\u001b[39;49m\u001b[43m)\u001b[49m\u001b[43m,\u001b[49m\u001b[43mdtype\u001b[49m\u001b[38;5;241;43m=\u001b[39;49m\u001b[38;5;124;43m'\u001b[39;49m\u001b[38;5;124;43mf\u001b[39;49m\u001b[38;5;124;43m'\u001b[39;49m\u001b[43m)\u001b[49m\n",
      "\u001b[1;31mTypeError\u001b[0m: arange: scalar arguments expected instead of a tuple."
     ]
    }
   ],
   "source": [
    "C=np.arange((1,17),dtype='f')"
   ]
  },
  {
   "cell_type": "code",
   "execution_count": 63,
   "id": "de9fae64-bbd9-4eea-8e4f-2e4fa66df6b2",
   "metadata": {},
   "outputs": [
    {
     "name": "stdout",
     "output_type": "stream",
     "text": [
      "Help on built-in function arange in module numpy:\n",
      "\n",
      "arange(...)\n",
      "    arange([start,] stop[, step,], dtype=None, *, like=None)\n",
      "    \n",
      "    Return evenly spaced values within a given interval.\n",
      "    \n",
      "    ``arange`` can be called with a varying number of positional arguments:\n",
      "    \n",
      "    * ``arange(stop)``: Values are generated within the half-open interval\n",
      "      ``[0, stop)`` (in other words, the interval including `start` but\n",
      "      excluding `stop`).\n",
      "    * ``arange(start, stop)``: Values are generated within the half-open\n",
      "      interval ``[start, stop)``.\n",
      "    * ``arange(start, stop, step)`` Values are generated within the half-open\n",
      "      interval ``[start, stop)``, with spacing between values given by\n",
      "      ``step``.\n",
      "    \n",
      "    For integer arguments the function is roughly equivalent to the Python\n",
      "    built-in :py:class:`range`, but returns an ndarray rather than a ``range``\n",
      "    instance.\n",
      "    \n",
      "    When using a non-integer step, such as 0.1, it is often better to use\n",
      "    `numpy.linspace`.\n",
      "    \n",
      "    See the Warning sections below for more information.\n",
      "    \n",
      "    Parameters\n",
      "    ----------\n",
      "    start : integer or real, optional\n",
      "        Start of interval.  The interval includes this value.  The default\n",
      "        start value is 0.\n",
      "    stop : integer or real\n",
      "        End of interval.  The interval does not include this value, except\n",
      "        in some cases where `step` is not an integer and floating point\n",
      "        round-off affects the length of `out`.\n",
      "    step : integer or real, optional\n",
      "        Spacing between values.  For any output `out`, this is the distance\n",
      "        between two adjacent values, ``out[i+1] - out[i]``.  The default\n",
      "        step size is 1.  If `step` is specified as a position argument,\n",
      "        `start` must also be given.\n",
      "    dtype : dtype, optional\n",
      "        The type of the output array.  If `dtype` is not given, infer the data\n",
      "        type from the other input arguments.\n",
      "    like : array_like, optional\n",
      "        Reference object to allow the creation of arrays which are not\n",
      "        NumPy arrays. If an array-like passed in as ``like`` supports\n",
      "        the ``__array_function__`` protocol, the result will be defined\n",
      "        by it. In this case, it ensures the creation of an array object\n",
      "        compatible with that passed in via this argument.\n",
      "    \n",
      "        .. versionadded:: 1.20.0\n",
      "    \n",
      "    Returns\n",
      "    -------\n",
      "    arange : ndarray\n",
      "        Array of evenly spaced values.\n",
      "    \n",
      "        For floating point arguments, the length of the result is\n",
      "        ``ceil((stop - start)/step)``.  Because of floating point overflow,\n",
      "        this rule may result in the last element of `out` being greater\n",
      "        than `stop`.\n",
      "    \n",
      "    Warnings\n",
      "    --------\n",
      "    The length of the output might not be numerically stable.\n",
      "    \n",
      "    Another stability issue is due to the internal implementation of\n",
      "    `numpy.arange`.\n",
      "    The actual step value used to populate the array is\n",
      "    ``dtype(start + step) - dtype(start)`` and not `step`. Precision loss\n",
      "    can occur here, due to casting or due to using floating points when\n",
      "    `start` is much larger than `step`. This can lead to unexpected\n",
      "    behaviour. For example::\n",
      "    \n",
      "      >>> np.arange(0, 5, 0.5, dtype=int)\n",
      "      array([0, 0, 0, 0, 0, 0, 0, 0, 0, 0])\n",
      "      >>> np.arange(-3, 3, 0.5, dtype=int)\n",
      "      array([-3, -2, -1,  0,  1,  2,  3,  4,  5,  6,  7,  8])\n",
      "    \n",
      "    In such cases, the use of `numpy.linspace` should be preferred.\n",
      "    \n",
      "    The built-in :py:class:`range` generates :std:doc:`Python built-in integers\n",
      "    that have arbitrary size <python:c-api/long>`, while `numpy.arange`\n",
      "    produces `numpy.int32` or `numpy.int64` numbers. This may result in\n",
      "    incorrect results for large integer values::\n",
      "    \n",
      "      >>> power = 40\n",
      "      >>> modulo = 10000\n",
      "      >>> x1 = [(n ** power) % modulo for n in range(8)]\n",
      "      >>> x2 = [(n ** power) % modulo for n in np.arange(8)]\n",
      "      >>> print(x1)\n",
      "      [0, 1, 7776, 8801, 6176, 625, 6576, 4001]  # correct\n",
      "      >>> print(x2)\n",
      "      [0, 1, 7776, 7185, 0, 5969, 4816, 3361]  # incorrect\n",
      "    \n",
      "    See Also\n",
      "    --------\n",
      "    numpy.linspace : Evenly spaced numbers with careful handling of endpoints.\n",
      "    numpy.ogrid: Arrays of evenly spaced numbers in N-dimensions.\n",
      "    numpy.mgrid: Grid-shaped arrays of evenly spaced numbers in N-dimensions.\n",
      "    :ref:`how-to-partition`\n",
      "    \n",
      "    Examples\n",
      "    --------\n",
      "    >>> np.arange(3)\n",
      "    array([0, 1, 2])\n",
      "    >>> np.arange(3.0)\n",
      "    array([ 0.,  1.,  2.])\n",
      "    >>> np.arange(3,7)\n",
      "    array([3, 4, 5, 6])\n",
      "    >>> np.arange(3,7,2)\n",
      "    array([3, 5])\n",
      "\n"
     ]
    }
   ],
   "source": [
    "help(np.arange)"
   ]
  },
  {
   "cell_type": "code",
   "execution_count": 64,
   "id": "97b1720e-b600-4324-bba6-77ea02690e58",
   "metadata": {},
   "outputs": [],
   "source": [
    "C=np.arange(1,17,dtype='f')"
   ]
  },
  {
   "cell_type": "code",
   "execution_count": 65,
   "id": "d9f6e031-cb58-4226-8807-a11748fb4042",
   "metadata": {},
   "outputs": [
    {
     "data": {
      "text/plain": [
       "array([ 1.,  2.,  3.,  4.,  5.,  6.,  7.,  8.,  9., 10., 11., 12., 13.,\n",
       "       14., 15., 16.], dtype=float32)"
      ]
     },
     "execution_count": 65,
     "metadata": {},
     "output_type": "execute_result"
    }
   ],
   "source": [
    "C"
   ]
  },
  {
   "cell_type": "code",
   "execution_count": 92,
   "id": "689c7294-8264-496a-9769-a1631a5a45b7",
   "metadata": {},
   "outputs": [
    {
     "data": {
      "text/plain": [
       "array([1, 2, 3, 4])"
      ]
     },
     "execution_count": 92,
     "metadata": {},
     "output_type": "execute_result"
    }
   ],
   "source": [
    "A"
   ]
  },
  {
   "cell_type": "code",
   "execution_count": 94,
   "id": "58aed8ed-18bd-434c-91f8-95a926591940",
   "metadata": {},
   "outputs": [
    {
     "ename": "TypeError",
     "evalue": "'inplace' is an invalid keyword argument for this function",
     "output_type": "error",
     "traceback": [
      "\u001b[1;31m---------------------------------------------------------------------------\u001b[0m",
      "\u001b[1;31mTypeError\u001b[0m                                 Traceback (most recent call last)",
      "Cell \u001b[1;32mIn[94], line 1\u001b[0m\n\u001b[1;32m----> 1\u001b[0m \u001b[43mA\u001b[49m\u001b[38;5;241;43m.\u001b[39;49m\u001b[43mreshape\u001b[49m\u001b[43m(\u001b[49m\u001b[38;5;241;43m2\u001b[39;49m\u001b[43m,\u001b[49m\u001b[38;5;241;43m2\u001b[39;49m\u001b[43m,\u001b[49m\u001b[43minplace\u001b[49m\u001b[38;5;241;43m=\u001b[39;49m\u001b[38;5;28;43;01mTrue\u001b[39;49;00m\u001b[43m)\u001b[49m\n",
      "\u001b[1;31mTypeError\u001b[0m: 'inplace' is an invalid keyword argument for this function"
     ]
    }
   ],
   "source": [
    "A.reshape(2,2,inplace=True)"
   ]
  },
  {
   "cell_type": "code",
   "execution_count": null,
   "id": "b4c786e5-3624-475c-8356-9c78e7acd0da",
   "metadata": {},
   "outputs": [],
   "source": []
  }
 ],
 "metadata": {
  "kernelspec": {
   "display_name": "Python 3 (ipykernel)",
   "language": "python",
   "name": "python3"
  },
  "language_info": {
   "codemirror_mode": {
    "name": "ipython",
    "version": 3
   },
   "file_extension": ".py",
   "mimetype": "text/x-python",
   "name": "python",
   "nbconvert_exporter": "python",
   "pygments_lexer": "ipython3",
   "version": "3.11.4"
  }
 },
 "nbformat": 4,
 "nbformat_minor": 5
}
