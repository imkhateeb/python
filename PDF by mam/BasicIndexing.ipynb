{
 "cells": [
  {
   "cell_type": "code",
   "execution_count": 1,
   "id": "36ea3f20-4dfb-45d8-8a7e-8318b03d225c",
   "metadata": {},
   "outputs": [],
   "source": [
    "import numpy as np"
   ]
  },
  {
   "cell_type": "code",
   "execution_count": 2,
   "id": "4be38411-91dd-4f3e-a533-1f042709b407",
   "metadata": {},
   "outputs": [],
   "source": [
    "L1=[1,2,3,4,5,6]"
   ]
  },
  {
   "cell_type": "code",
   "execution_count": 3,
   "id": "7ae7585f-5bfe-4f15-9e7e-70c08aca829d",
   "metadata": {},
   "outputs": [],
   "source": [
    "A=np.array(L1)"
   ]
  },
  {
   "cell_type": "code",
   "execution_count": 4,
   "id": "197a32b3-1822-4d15-8c38-80c4b49a6e0c",
   "metadata": {},
   "outputs": [
    {
     "data": {
      "text/plain": [
       "array([1, 2, 3, 4, 5, 6])"
      ]
     },
     "execution_count": 4,
     "metadata": {},
     "output_type": "execute_result"
    }
   ],
   "source": [
    "A"
   ]
  },
  {
   "cell_type": "code",
   "execution_count": 5,
   "id": "963bb111-3424-49b3-a2a0-5e4739a051fd",
   "metadata": {},
   "outputs": [
    {
     "name": "stdout",
     "output_type": "stream",
     "text": [
      "<class 'numpy.ndarray'>\n"
     ]
    }
   ],
   "source": [
    "print(type(A))"
   ]
  },
  {
   "cell_type": "code",
   "execution_count": 6,
   "id": "6314fb6d-505c-40c0-9774-729390f03123",
   "metadata": {},
   "outputs": [
    {
     "data": {
      "text/plain": [
       "6"
      ]
     },
     "execution_count": 6,
     "metadata": {},
     "output_type": "execute_result"
    }
   ],
   "source": [
    "A.size"
   ]
  },
  {
   "cell_type": "code",
   "execution_count": 7,
   "id": "f8acf86b-6bfd-4096-8ceb-f983c4cab7d8",
   "metadata": {},
   "outputs": [
    {
     "data": {
      "text/plain": [
       "(6,)"
      ]
     },
     "execution_count": 7,
     "metadata": {},
     "output_type": "execute_result"
    }
   ],
   "source": [
    "A.shape"
   ]
  },
  {
   "cell_type": "code",
   "execution_count": 8,
   "id": "b76f8dd3-31a7-4074-a715-a04a2121b8dd",
   "metadata": {},
   "outputs": [
    {
     "data": {
      "text/plain": [
       "1"
      ]
     },
     "execution_count": 8,
     "metadata": {},
     "output_type": "execute_result"
    }
   ],
   "source": [
    "A.ndim"
   ]
  },
  {
   "cell_type": "code",
   "execution_count": 9,
   "id": "710a452d-507e-4de9-836d-f14393e078e3",
   "metadata": {},
   "outputs": [],
   "source": [
    "B=A.reshape(2,3)"
   ]
  },
  {
   "cell_type": "code",
   "execution_count": 10,
   "id": "5a0c1ce1-3a61-4536-9883-f3c0c5413e6b",
   "metadata": {},
   "outputs": [
    {
     "data": {
      "text/plain": [
       "array([[1, 2, 3],\n",
       "       [4, 5, 6]])"
      ]
     },
     "execution_count": 10,
     "metadata": {},
     "output_type": "execute_result"
    }
   ],
   "source": [
    "B"
   ]
  },
  {
   "cell_type": "code",
   "execution_count": 11,
   "id": "cbd4691f-cc2f-43f5-abd0-4cdfe4beab31",
   "metadata": {},
   "outputs": [],
   "source": [
    "R1=B[0]"
   ]
  },
  {
   "cell_type": "code",
   "execution_count": 12,
   "id": "cf6ca9d2-0e30-4110-9048-15915b56b2f0",
   "metadata": {},
   "outputs": [
    {
     "data": {
      "text/plain": [
       "array([1, 2, 3])"
      ]
     },
     "execution_count": 12,
     "metadata": {},
     "output_type": "execute_result"
    }
   ],
   "source": [
    "R1"
   ]
  },
  {
   "cell_type": "code",
   "execution_count": 13,
   "id": "ba43c675-f9aa-4f99-9056-ade945af6637",
   "metadata": {},
   "outputs": [
    {
     "data": {
      "text/plain": [
       "(3,)"
      ]
     },
     "execution_count": 13,
     "metadata": {},
     "output_type": "execute_result"
    }
   ],
   "source": [
    "R1.shape"
   ]
  },
  {
   "cell_type": "code",
   "execution_count": 14,
   "id": "d9e3f2ff-ce8d-477e-81f3-53d6837e413e",
   "metadata": {},
   "outputs": [
    {
     "data": {
      "text/plain": [
       "array([1, 4])"
      ]
     },
     "execution_count": 14,
     "metadata": {},
     "output_type": "execute_result"
    }
   ],
   "source": [
    "B[:,0]"
   ]
  },
  {
   "cell_type": "code",
   "execution_count": 15,
   "id": "35e44080-1454-43a2-99a6-9a719f041a7d",
   "metadata": {},
   "outputs": [
    {
     "data": {
      "text/plain": [
       "1"
      ]
     },
     "execution_count": 15,
     "metadata": {},
     "output_type": "execute_result"
    }
   ],
   "source": [
    "R1.ndim"
   ]
  },
  {
   "cell_type": "code",
   "execution_count": 16,
   "id": "aeec6b98-336d-4813-88e8-ea3a0ce658f7",
   "metadata": {},
   "outputs": [],
   "source": [
    "R2=B[0:,]"
   ]
  },
  {
   "cell_type": "code",
   "execution_count": 17,
   "id": "ea148aed-3046-45ec-8040-64b30812cd68",
   "metadata": {},
   "outputs": [
    {
     "data": {
      "text/plain": [
       "array([[1, 2, 3],\n",
       "       [4, 5, 6]])"
      ]
     },
     "execution_count": 17,
     "metadata": {},
     "output_type": "execute_result"
    }
   ],
   "source": [
    "R2"
   ]
  },
  {
   "cell_type": "code",
   "execution_count": 18,
   "id": "23dffffe-df31-49c9-9698-c508f379ce73",
   "metadata": {},
   "outputs": [
    {
     "data": {
      "text/plain": [
       "2"
      ]
     },
     "execution_count": 18,
     "metadata": {},
     "output_type": "execute_result"
    }
   ],
   "source": [
    "R2.ndim"
   ]
  },
  {
   "cell_type": "code",
   "execution_count": 19,
   "id": "edd835a0-ac9b-460b-b042-2ff678c08136",
   "metadata": {},
   "outputs": [
    {
     "data": {
      "text/plain": [
       "(2, 3)"
      ]
     },
     "execution_count": 19,
     "metadata": {},
     "output_type": "execute_result"
    }
   ],
   "source": [
    "R2.shape"
   ]
  },
  {
   "cell_type": "code",
   "execution_count": 20,
   "id": "1692b737-f970-4349-8eed-c3cfd13a0e4a",
   "metadata": {},
   "outputs": [
    {
     "data": {
      "text/plain": [
       "array([[1],\n",
       "       [4]])"
      ]
     },
     "execution_count": 20,
     "metadata": {},
     "output_type": "execute_result"
    }
   ],
   "source": [
    "R2[0:,0:1]"
   ]
  },
  {
   "cell_type": "code",
   "execution_count": 21,
   "id": "d38b282c-735e-49b6-857a-47bee16decc0",
   "metadata": {},
   "outputs": [],
   "source": [
    "R3=B[0:1,]"
   ]
  },
  {
   "cell_type": "code",
   "execution_count": 22,
   "id": "c8d343c4-f28c-4250-aa4e-76fff7e0f274",
   "metadata": {},
   "outputs": [
    {
     "data": {
      "text/plain": [
       "array([[1, 2, 3]])"
      ]
     },
     "execution_count": 22,
     "metadata": {},
     "output_type": "execute_result"
    }
   ],
   "source": [
    "R3"
   ]
  },
  {
   "cell_type": "code",
   "execution_count": 23,
   "id": "ba60122b-9cd7-4679-9c33-a9582c342492",
   "metadata": {},
   "outputs": [
    {
     "data": {
      "text/plain": [
       "(1, 3)"
      ]
     },
     "execution_count": 23,
     "metadata": {},
     "output_type": "execute_result"
    }
   ],
   "source": [
    "R3.shape"
   ]
  },
  {
   "cell_type": "code",
   "execution_count": 25,
   "id": "9e4c0b89-e7d0-4ed1-8079-ac3c483b119a",
   "metadata": {},
   "outputs": [
    {
     "data": {
      "text/plain": [
       "2"
      ]
     },
     "execution_count": 25,
     "metadata": {},
     "output_type": "execute_result"
    }
   ],
   "source": [
    "R3.ndim"
   ]
  },
  {
   "cell_type": "code",
   "execution_count": 26,
   "id": "e7465af0-17f7-4175-a2ff-765ab17e90aa",
   "metadata": {},
   "outputs": [],
   "source": [
    "R4=B[0:1,0:1]"
   ]
  },
  {
   "cell_type": "code",
   "execution_count": 27,
   "id": "bdc14ccf-1910-4291-98f1-98c9632f6783",
   "metadata": {},
   "outputs": [
    {
     "data": {
      "text/plain": [
       "array([[1]])"
      ]
     },
     "execution_count": 27,
     "metadata": {},
     "output_type": "execute_result"
    }
   ],
   "source": [
    "R4"
   ]
  },
  {
   "cell_type": "code",
   "execution_count": 28,
   "id": "e968007a-2b2d-41c5-87dd-d64ad9590ee9",
   "metadata": {},
   "outputs": [
    {
     "data": {
      "text/plain": [
       "(1, 1)"
      ]
     },
     "execution_count": 28,
     "metadata": {},
     "output_type": "execute_result"
    }
   ],
   "source": [
    "R4.shape"
   ]
  },
  {
   "cell_type": "code",
   "execution_count": 29,
   "id": "ddf357e5-cb65-4cfb-bb78-20bfda708aec",
   "metadata": {},
   "outputs": [],
   "source": [
    "R5=B[0,0]"
   ]
  },
  {
   "cell_type": "code",
   "execution_count": 30,
   "id": "51c35c6b-8c95-4462-887f-6bf75a6604a2",
   "metadata": {},
   "outputs": [
    {
     "data": {
      "text/plain": [
       "()"
      ]
     },
     "execution_count": 30,
     "metadata": {},
     "output_type": "execute_result"
    }
   ],
   "source": [
    "R5.shape"
   ]
  },
  {
   "cell_type": "code",
   "execution_count": 32,
   "id": "d74db4c0-553d-4c2f-a552-8fa96e5b74fd",
   "metadata": {},
   "outputs": [
    {
     "name": "stdout",
     "output_type": "stream",
     "text": [
      "<class 'numpy.int32'>\n"
     ]
    }
   ],
   "source": [
    "print(type(R5))"
   ]
  },
  {
   "cell_type": "code",
   "execution_count": 33,
   "id": "9bb65cae-2e11-4189-adb0-8504b24c3c93",
   "metadata": {},
   "outputs": [
    {
     "data": {
      "text/plain": [
       "array([[1, 2, 3],\n",
       "       [4, 5, 6]])"
      ]
     },
     "execution_count": 33,
     "metadata": {},
     "output_type": "execute_result"
    }
   ],
   "source": [
    "B"
   ]
  },
  {
   "cell_type": "code",
   "execution_count": 34,
   "id": "a8e72699-b16b-4ea5-a878-cea710fe3037",
   "metadata": {},
   "outputs": [],
   "source": [
    "B[0,0]=8"
   ]
  },
  {
   "cell_type": "code",
   "execution_count": 35,
   "id": "d7737b3c-ed39-4a7c-abe1-1f2fff44f655",
   "metadata": {},
   "outputs": [
    {
     "data": {
      "text/plain": [
       "array([[8, 2, 3],\n",
       "       [4, 5, 6]])"
      ]
     },
     "execution_count": 35,
     "metadata": {},
     "output_type": "execute_result"
    }
   ],
   "source": [
    "B"
   ]
  },
  {
   "cell_type": "code",
   "execution_count": 36,
   "id": "badfe5fb-1b3a-461a-a1a7-69ef61926aac",
   "metadata": {},
   "outputs": [],
   "source": [
    "B[1]=[10,11,12]"
   ]
  },
  {
   "cell_type": "code",
   "execution_count": 37,
   "id": "b9c8e817-28d5-4ee8-9534-94f8c41cf058",
   "metadata": {},
   "outputs": [
    {
     "data": {
      "text/plain": [
       "array([[ 8,  2,  3],\n",
       "       [10, 11, 12]])"
      ]
     },
     "execution_count": 37,
     "metadata": {},
     "output_type": "execute_result"
    }
   ],
   "source": [
    "B"
   ]
  },
  {
   "cell_type": "code",
   "execution_count": 41,
   "id": "a2cc1fb4-3408-433e-9edf-9e5229ef5559",
   "metadata": {},
   "outputs": [
    {
     "data": {
      "text/plain": [
       "8"
      ]
     },
     "execution_count": 41,
     "metadata": {},
     "output_type": "execute_result"
    }
   ],
   "source": [
    "B[0][0]"
   ]
  },
  {
   "cell_type": "code",
   "execution_count": null,
   "id": "41b577e6-fc40-4f45-b274-a4fb98068867",
   "metadata": {},
   "outputs": [],
   "source": []
  }
 ],
 "metadata": {
  "kernelspec": {
   "display_name": "Python 3 (ipykernel)",
   "language": "python",
   "name": "python3"
  },
  "language_info": {
   "codemirror_mode": {
    "name": "ipython",
    "version": 3
   },
   "file_extension": ".py",
   "mimetype": "text/x-python",
   "name": "python",
   "nbconvert_exporter": "python",
   "pygments_lexer": "ipython3",
   "version": "3.11.4"
  }
 },
 "nbformat": 4,
 "nbformat_minor": 5
}
