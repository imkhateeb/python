{
 "cells": [
  {
   "cell_type": "code",
   "execution_count": 1,
   "id": "db29fe68-c270-4047-b4bb-0ea785cabbe4",
   "metadata": {},
   "outputs": [],
   "source": [
    "a=10"
   ]
  },
  {
   "cell_type": "code",
   "execution_count": 2,
   "id": "2fde22bc-275c-4646-ab25-4b0bdff65500",
   "metadata": {},
   "outputs": [
    {
     "data": {
      "text/plain": [
       "10"
      ]
     },
     "execution_count": 2,
     "metadata": {},
     "output_type": "execute_result"
    }
   ],
   "source": [
    "hash(a)"
   ]
  },
  {
   "cell_type": "code",
   "execution_count": 3,
   "id": "66b05909-8e43-4397-bb47-93a4d8eee63a",
   "metadata": {},
   "outputs": [],
   "source": [
    "a=15"
   ]
  },
  {
   "cell_type": "code",
   "execution_count": 4,
   "id": "be44548d-d8c6-430e-980a-47621969ca96",
   "metadata": {},
   "outputs": [
    {
     "data": {
      "text/plain": [
       "15"
      ]
     },
     "execution_count": 4,
     "metadata": {},
     "output_type": "execute_result"
    }
   ],
   "source": [
    "hash(a)"
   ]
  },
  {
   "cell_type": "code",
   "execution_count": 5,
   "id": "e048c8ec-a197-4fc7-be16-f559e27a19cd",
   "metadata": {},
   "outputs": [],
   "source": [
    "b=10.5"
   ]
  },
  {
   "cell_type": "code",
   "execution_count": 6,
   "id": "5b0f8135-a50d-4c5d-aec2-73178ee1f72f",
   "metadata": {},
   "outputs": [
    {
     "data": {
      "text/plain": [
       "1152921504606846986"
      ]
     },
     "execution_count": 6,
     "metadata": {},
     "output_type": "execute_result"
    }
   ],
   "source": [
    "hash(b)"
   ]
  },
  {
   "cell_type": "code",
   "execution_count": 7,
   "id": "77bb9cf4-0885-4179-9352-df312f136b78",
   "metadata": {},
   "outputs": [],
   "source": [
    "S=\"String\""
   ]
  },
  {
   "cell_type": "code",
   "execution_count": 8,
   "id": "97eb9d79-43c1-436a-97a4-9e335de9c481",
   "metadata": {},
   "outputs": [
    {
     "data": {
      "text/plain": [
       "875428338308793011"
      ]
     },
     "execution_count": 8,
     "metadata": {},
     "output_type": "execute_result"
    }
   ],
   "source": [
    "hash(S)"
   ]
  },
  {
   "cell_type": "code",
   "execution_count": 9,
   "id": "acb09d54-4e70-45f7-be1d-b123ec2337bd",
   "metadata": {},
   "outputs": [],
   "source": [
    "L=[1,2,3]"
   ]
  },
  {
   "cell_type": "code",
   "execution_count": 10,
   "id": "d28ceec7-8f52-4662-90de-afff841df9a1",
   "metadata": {},
   "outputs": [
    {
     "ename": "TypeError",
     "evalue": "unhashable type: 'list'",
     "output_type": "error",
     "traceback": [
      "\u001b[1;31m---------------------------------------------------------------------------\u001b[0m",
      "\u001b[1;31mTypeError\u001b[0m                                 Traceback (most recent call last)",
      "Cell \u001b[1;32mIn[10], line 1\u001b[0m\n\u001b[1;32m----> 1\u001b[0m \u001b[38;5;28;43mhash\u001b[39;49m\u001b[43m(\u001b[49m\u001b[43mL\u001b[49m\u001b[43m)\u001b[49m\n",
      "\u001b[1;31mTypeError\u001b[0m: unhashable type: 'list'"
     ]
    }
   ],
   "source": [
    "hash(L)"
   ]
  },
  {
   "cell_type": "code",
   "execution_count": 11,
   "id": "2daeb44c-7f9c-46d8-b36c-1db3eab313d1",
   "metadata": {},
   "outputs": [],
   "source": [
    "Set={1,2,3,4,4,6,6}"
   ]
  },
  {
   "cell_type": "code",
   "execution_count": 12,
   "id": "5ff79b84-17f0-4145-bd0e-cb9a2ab6a6b6",
   "metadata": {},
   "outputs": [
    {
     "data": {
      "text/plain": [
       "{1, 2, 3, 4, 6}"
      ]
     },
     "execution_count": 12,
     "metadata": {},
     "output_type": "execute_result"
    }
   ],
   "source": [
    "Set"
   ]
  },
  {
   "cell_type": "code",
   "execution_count": 13,
   "id": "fed627a0-0754-4e9c-bdb2-356750d86794",
   "metadata": {},
   "outputs": [],
   "source": [
    "Set=set([1,2,3,4,5])"
   ]
  },
  {
   "cell_type": "code",
   "execution_count": 14,
   "id": "69776e4d-f33d-4d97-b7dc-40cf2ce99e1a",
   "metadata": {},
   "outputs": [
    {
     "data": {
      "text/plain": [
       "{1, 2, 3, 4, 5}"
      ]
     },
     "execution_count": 14,
     "metadata": {},
     "output_type": "execute_result"
    }
   ],
   "source": [
    "Set"
   ]
  },
  {
   "cell_type": "code",
   "execution_count": 15,
   "id": "b7ea4c82-f04d-4c92-9cc1-b174b63b1ddb",
   "metadata": {},
   "outputs": [
    {
     "ename": "TypeError",
     "evalue": "unhashable type: 'set'",
     "output_type": "error",
     "traceback": [
      "\u001b[1;31m---------------------------------------------------------------------------\u001b[0m",
      "\u001b[1;31mTypeError\u001b[0m                                 Traceback (most recent call last)",
      "Cell \u001b[1;32mIn[15], line 1\u001b[0m\n\u001b[1;32m----> 1\u001b[0m \u001b[38;5;28;43mhash\u001b[39;49m\u001b[43m(\u001b[49m\u001b[43mSet\u001b[49m\u001b[43m)\u001b[49m\n",
      "\u001b[1;31mTypeError\u001b[0m: unhashable type: 'set'"
     ]
    }
   ],
   "source": [
    "hash(Set)"
   ]
  },
  {
   "cell_type": "code",
   "execution_count": 16,
   "id": "6207f588-eef5-49d0-9f2b-4a1e57c65f44",
   "metadata": {},
   "outputs": [
    {
     "ename": "TypeError",
     "evalue": "unhashable type: 'list'",
     "output_type": "error",
     "traceback": [
      "\u001b[1;31m---------------------------------------------------------------------------\u001b[0m",
      "\u001b[1;31mTypeError\u001b[0m                                 Traceback (most recent call last)",
      "Cell \u001b[1;32mIn[16], line 1\u001b[0m\n\u001b[1;32m----> 1\u001b[0m Set\u001b[38;5;241m=\u001b[39m\u001b[38;5;28;43mset\u001b[39;49m\u001b[43m(\u001b[49m\u001b[43m[\u001b[49m\u001b[38;5;241;43m1\u001b[39;49m\u001b[43m,\u001b[49m\u001b[38;5;241;43m2\u001b[39;49m\u001b[43m,\u001b[49m\u001b[38;5;241;43m3\u001b[39;49m\u001b[43m,\u001b[49m\u001b[43m[\u001b[49m\u001b[38;5;241;43m4\u001b[39;49m\u001b[43m,\u001b[49m\u001b[38;5;241;43m5\u001b[39;49m\u001b[43m]\u001b[49m\u001b[43m,\u001b[49m\u001b[38;5;241;43m6\u001b[39;49m\u001b[43m]\u001b[49m\u001b[43m)\u001b[49m\n",
      "\u001b[1;31mTypeError\u001b[0m: unhashable type: 'list'"
     ]
    }
   ],
   "source": [
    "Set=set([1,2,3,[4,5],6])"
   ]
  },
  {
   "cell_type": "code",
   "execution_count": 18,
   "id": "6b50312d-3200-44ba-9eb4-a90625ab8fa0",
   "metadata": {},
   "outputs": [
    {
     "ename": "TypeError",
     "evalue": "unhashable type: 'set'",
     "output_type": "error",
     "traceback": [
      "\u001b[1;31m---------------------------------------------------------------------------\u001b[0m",
      "\u001b[1;31mTypeError\u001b[0m                                 Traceback (most recent call last)",
      "Cell \u001b[1;32mIn[18], line 1\u001b[0m\n\u001b[1;32m----> 1\u001b[0m Set\u001b[38;5;241m=\u001b[39m{\u001b[38;5;241m1\u001b[39m,\u001b[38;5;241m2\u001b[39m,\u001b[38;5;241m3\u001b[39m,{\u001b[38;5;241m1\u001b[39m,\u001b[38;5;241m2\u001b[39m},\u001b[38;5;241m7\u001b[39m}\n",
      "\u001b[1;31mTypeError\u001b[0m: unhashable type: 'set'"
     ]
    }
   ],
   "source": [
    "Set={1,2,3,{1,2},7}"
   ]
  },
  {
   "cell_type": "code",
   "execution_count": 19,
   "id": "a04f11bc-9056-476b-b6ae-ae7818e03091",
   "metadata": {},
   "outputs": [],
   "source": [
    "S={1,10,4,60,70}"
   ]
  },
  {
   "cell_type": "code",
   "execution_count": 20,
   "id": "1145c125-d6b8-47ab-accd-35b596191fda",
   "metadata": {},
   "outputs": [
    {
     "data": {
      "text/plain": [
       "{1, 4, 10, 60, 70}"
      ]
     },
     "execution_count": 20,
     "metadata": {},
     "output_type": "execute_result"
    }
   ],
   "source": [
    "S"
   ]
  },
  {
   "cell_type": "code",
   "execution_count": 21,
   "id": "f53248ba-d9be-4521-b486-05ca11150fe1",
   "metadata": {},
   "outputs": [
    {
     "name": "stdout",
     "output_type": "stream",
     "text": [
      "1\n",
      "4\n",
      "70\n",
      "10\n",
      "60\n"
     ]
    }
   ],
   "source": [
    "for i in S:\n",
    "    print(i)"
   ]
  },
  {
   "cell_type": "code",
   "execution_count": 22,
   "id": "94432603-c382-4156-9509-1de97e8836bd",
   "metadata": {},
   "outputs": [],
   "source": [
    "S1={10,60,70,4,1}"
   ]
  },
  {
   "cell_type": "code",
   "execution_count": 23,
   "id": "ea3f8e85-4608-4415-8a7f-dd2a1d5ede89",
   "metadata": {},
   "outputs": [
    {
     "data": {
      "text/plain": [
       "{1, 4, 10, 60, 70}"
      ]
     },
     "execution_count": 23,
     "metadata": {},
     "output_type": "execute_result"
    }
   ],
   "source": [
    "S1"
   ]
  },
  {
   "cell_type": "code",
   "execution_count": 24,
   "id": "f46a59d0-d58f-4330-abc2-c22a0ba1b4df",
   "metadata": {},
   "outputs": [
    {
     "name": "stdout",
     "output_type": "stream",
     "text": [
      "(0, 1)\n",
      "(1, 4)\n",
      "(2, 70)\n",
      "(3, 10)\n",
      "(4, 60)\n"
     ]
    }
   ],
   "source": [
    "for i in enumerate(S1):\n",
    "    print(i)"
   ]
  },
  {
   "cell_type": "code",
   "execution_count": 25,
   "id": "c6975523-d5c3-49f6-bffc-ba793d3949c6",
   "metadata": {},
   "outputs": [],
   "source": [
    "S1={1,2,3,4}"
   ]
  },
  {
   "cell_type": "code",
   "execution_count": 28,
   "id": "6ed83e95-c2f0-4bc2-a795-9d5c65811901",
   "metadata": {},
   "outputs": [],
   "source": [
    "S1.add(1.5)"
   ]
  },
  {
   "cell_type": "code",
   "execution_count": 29,
   "id": "c9c7565e-e8fe-495a-a0a5-ff6d4016fca0",
   "metadata": {},
   "outputs": [
    {
     "data": {
      "text/plain": [
       "{1, 1.5, 2, 3, 4, 7}"
      ]
     },
     "execution_count": 29,
     "metadata": {},
     "output_type": "execute_result"
    }
   ],
   "source": [
    "S1"
   ]
  },
  {
   "cell_type": "code",
   "execution_count": 30,
   "id": "d989a5b5-d6d1-45ec-9e50-46f553f189c5",
   "metadata": {},
   "outputs": [
    {
     "data": {
      "text/plain": [
       "{1, 1.5, 2, 3, 4, 7}"
      ]
     },
     "execution_count": 30,
     "metadata": {},
     "output_type": "execute_result"
    }
   ],
   "source": [
    "S1"
   ]
  },
  {
   "cell_type": "code",
   "execution_count": 31,
   "id": "12289a7f-279d-4047-a0ba-806a308330c9",
   "metadata": {},
   "outputs": [],
   "source": [
    "S2={1,2,3}"
   ]
  },
  {
   "cell_type": "code",
   "execution_count": 32,
   "id": "071a2c14-4539-43b0-b6b2-1e65f5e149ed",
   "metadata": {},
   "outputs": [
    {
     "ename": "TypeError",
     "evalue": "unhashable type: 'set'",
     "output_type": "error",
     "traceback": [
      "\u001b[1;31m---------------------------------------------------------------------------\u001b[0m",
      "\u001b[1;31mTypeError\u001b[0m                                 Traceback (most recent call last)",
      "Cell \u001b[1;32mIn[32], line 1\u001b[0m\n\u001b[1;32m----> 1\u001b[0m \u001b[43mS1\u001b[49m\u001b[38;5;241;43m.\u001b[39;49m\u001b[43madd\u001b[49m\u001b[43m(\u001b[49m\u001b[43mS2\u001b[49m\u001b[43m)\u001b[49m\n",
      "\u001b[1;31mTypeError\u001b[0m: unhashable type: 'set'"
     ]
    }
   ],
   "source": [
    "S1.add(S2)"
   ]
  },
  {
   "cell_type": "code",
   "execution_count": 33,
   "id": "f0c80a8d-a2c7-4fa7-8c5f-d057c652c55e",
   "metadata": {},
   "outputs": [],
   "source": [
    "T1=(1,2,3)"
   ]
  },
  {
   "cell_type": "code",
   "execution_count": 34,
   "id": "8e92c1b2-b2fc-4977-91bc-b22ac4a0438f",
   "metadata": {},
   "outputs": [],
   "source": [
    "S1.add(T1)"
   ]
  },
  {
   "cell_type": "code",
   "execution_count": 35,
   "id": "f94884fa-265f-43a8-aa85-970ac6897b66",
   "metadata": {},
   "outputs": [
    {
     "data": {
      "text/plain": [
       "{(1, 2, 3), 1, 1.5, 2, 3, 4, 7}"
      ]
     },
     "execution_count": 35,
     "metadata": {},
     "output_type": "execute_result"
    }
   ],
   "source": [
    "S1"
   ]
  },
  {
   "cell_type": "code",
   "execution_count": 36,
   "id": "15543cc6-42dc-4821-be0e-7af386e66c50",
   "metadata": {},
   "outputs": [],
   "source": [
    "S1.remove(1.5)"
   ]
  },
  {
   "cell_type": "code",
   "execution_count": 37,
   "id": "b33f3d15-3aaf-4d0c-97fb-0b609aed42d6",
   "metadata": {},
   "outputs": [
    {
     "data": {
      "text/plain": [
       "{(1, 2, 3), 1, 2, 3, 4, 7}"
      ]
     },
     "execution_count": 37,
     "metadata": {},
     "output_type": "execute_result"
    }
   ],
   "source": [
    "S1"
   ]
  },
  {
   "cell_type": "code",
   "execution_count": 38,
   "id": "8f65f201-1fdf-4b33-833e-a10a8e408080",
   "metadata": {},
   "outputs": [
    {
     "ename": "SyntaxError",
     "evalue": "unmatched ')' (2230242537.py, line 1)",
     "output_type": "error",
     "traceback": [
      "\u001b[1;36m  Cell \u001b[1;32mIn[38], line 1\u001b[1;36m\u001b[0m\n\u001b[1;33m    S1.remove(90))\u001b[0m\n\u001b[1;37m                 ^\u001b[0m\n\u001b[1;31mSyntaxError\u001b[0m\u001b[1;31m:\u001b[0m unmatched ')'\n"
     ]
    }
   ],
   "source": [
    "S1.remove(90))"
   ]
  },
  {
   "cell_type": "code",
   "execution_count": 39,
   "id": "c10d586b-8614-47d1-9417-39fb2d5db82a",
   "metadata": {},
   "outputs": [],
   "source": [
    "S1.discard(90)"
   ]
  },
  {
   "cell_type": "code",
   "execution_count": 40,
   "id": "f0bc115f-f0b9-4bc5-ba02-ff31a008eb61",
   "metadata": {},
   "outputs": [
    {
     "ename": "TypeError",
     "evalue": "'int' object is not iterable",
     "output_type": "error",
     "traceback": [
      "\u001b[1;31m---------------------------------------------------------------------------\u001b[0m",
      "\u001b[1;31mTypeError\u001b[0m                                 Traceback (most recent call last)",
      "Cell \u001b[1;32mIn[40], line 1\u001b[0m\n\u001b[1;32m----> 1\u001b[0m \u001b[43mS1\u001b[49m\u001b[38;5;241;43m.\u001b[39;49m\u001b[43mupdate\u001b[49m\u001b[43m(\u001b[49m\u001b[38;5;241;43m30\u001b[39;49m\u001b[43m)\u001b[49m\n",
      "\u001b[1;31mTypeError\u001b[0m: 'int' object is not iterable"
     ]
    }
   ],
   "source": [
    "S1.update(30)"
   ]
  },
  {
   "cell_type": "code",
   "execution_count": 41,
   "id": "060e9ef8-1e05-437e-9ca3-1f54f6da841e",
   "metadata": {},
   "outputs": [],
   "source": [
    "S1.update(T1)"
   ]
  },
  {
   "cell_type": "code",
   "execution_count": 42,
   "id": "f1ec571e-492f-48a1-b624-2668e38dfdba",
   "metadata": {},
   "outputs": [
    {
     "data": {
      "text/plain": [
       "{(1, 2, 3), 1, 2, 3, 4, 7}"
      ]
     },
     "execution_count": 42,
     "metadata": {},
     "output_type": "execute_result"
    }
   ],
   "source": [
    "S1"
   ]
  },
  {
   "cell_type": "code",
   "execution_count": 43,
   "id": "9ab23155-ece3-4493-b1d5-4be6ca8b6628",
   "metadata": {},
   "outputs": [],
   "source": [
    "S1.update(S2)"
   ]
  },
  {
   "cell_type": "code",
   "execution_count": 44,
   "id": "d8ec6d85-9be2-4c9a-8f34-8921a0b80f0d",
   "metadata": {},
   "outputs": [
    {
     "data": {
      "text/plain": [
       "{(1, 2, 3), 1, 2, 3, 4, 7}"
      ]
     },
     "execution_count": 44,
     "metadata": {},
     "output_type": "execute_result"
    }
   ],
   "source": [
    "S1"
   ]
  },
  {
   "cell_type": "code",
   "execution_count": 47,
   "id": "602e714c-aa42-4481-8f53-0c7fcfeac82d",
   "metadata": {},
   "outputs": [
    {
     "data": {
      "text/plain": [
       "{(1, 2, 3), 1, 2, 3, 4, 7}"
      ]
     },
     "execution_count": 47,
     "metadata": {},
     "output_type": "execute_result"
    }
   ],
   "source": [
    "S1|S2"
   ]
  },
  {
   "cell_type": "code",
   "execution_count": 48,
   "id": "e7cccb2d-f52d-4cbe-a0c0-223e3904534c",
   "metadata": {},
   "outputs": [
    {
     "data": {
      "text/plain": [
       "{(1, 2, 3), 1, 2, 3, 4, 7}"
      ]
     },
     "execution_count": 48,
     "metadata": {},
     "output_type": "execute_result"
    }
   ],
   "source": [
    "S1"
   ]
  },
  {
   "cell_type": "code",
   "execution_count": 49,
   "id": "fbb7b5ff-e05c-414b-9405-79bbebfa8730",
   "metadata": {},
   "outputs": [
    {
     "data": {
      "text/plain": [
       "{1, 2, 3}"
      ]
     },
     "execution_count": 49,
     "metadata": {},
     "output_type": "execute_result"
    }
   ],
   "source": [
    "S2"
   ]
  },
  {
   "cell_type": "code",
   "execution_count": 50,
   "id": "8c9a0e9f-8afc-4464-9048-5b526ca7f5df",
   "metadata": {},
   "outputs": [],
   "source": [
    "S1={1,2,3,4,5}"
   ]
  },
  {
   "cell_type": "code",
   "execution_count": 51,
   "id": "1292ad02-e534-4496-8cec-fd5a6feb2207",
   "metadata": {},
   "outputs": [],
   "source": [
    "S2={3,4,5}"
   ]
  },
  {
   "cell_type": "code",
   "execution_count": 52,
   "id": "38bbe216-adc7-4cd1-a473-4bbfa15e82f1",
   "metadata": {},
   "outputs": [
    {
     "data": {
      "text/plain": [
       "{3, 4, 5}"
      ]
     },
     "execution_count": 52,
     "metadata": {},
     "output_type": "execute_result"
    }
   ],
   "source": [
    "S1.intersection(S2)"
   ]
  },
  {
   "cell_type": "code",
   "execution_count": 53,
   "id": "c7dac559-1a46-4ee6-a1af-a9a440c85278",
   "metadata": {},
   "outputs": [
    {
     "data": {
      "text/plain": [
       "{3, 4, 5}"
      ]
     },
     "execution_count": 53,
     "metadata": {},
     "output_type": "execute_result"
    }
   ],
   "source": [
    "S1&S2"
   ]
  },
  {
   "cell_type": "code",
   "execution_count": 54,
   "id": "31af1d0f-dae3-4bae-b618-ff7b96d74336",
   "metadata": {},
   "outputs": [
    {
     "data": {
      "text/plain": [
       "{1, 2, 3, 4, 5}"
      ]
     },
     "execution_count": 54,
     "metadata": {},
     "output_type": "execute_result"
    }
   ],
   "source": [
    "S1"
   ]
  },
  {
   "cell_type": "code",
   "execution_count": 55,
   "id": "1382daf4-4eb3-4a9f-8605-9942a6ebb389",
   "metadata": {},
   "outputs": [],
   "source": [
    "S1.intersection_update(S2)"
   ]
  },
  {
   "cell_type": "code",
   "execution_count": 56,
   "id": "26a256fa-c481-42cd-ae84-5a094628327b",
   "metadata": {},
   "outputs": [
    {
     "data": {
      "text/plain": [
       "{3, 4, 5}"
      ]
     },
     "execution_count": 56,
     "metadata": {},
     "output_type": "execute_result"
    }
   ],
   "source": [
    "S1"
   ]
  },
  {
   "cell_type": "code",
   "execution_count": 57,
   "id": "3d05ea69-d8ef-4982-8d3b-1c02c5a972a2",
   "metadata": {},
   "outputs": [
    {
     "data": {
      "text/plain": [
       "set()"
      ]
     },
     "execution_count": 57,
     "metadata": {},
     "output_type": "execute_result"
    }
   ],
   "source": [
    "S1-S2"
   ]
  },
  {
   "cell_type": "code",
   "execution_count": 58,
   "id": "8af48329-1710-47e7-a8b2-5a811aaf03c2",
   "metadata": {},
   "outputs": [],
   "source": [
    "Batters={\"Viart\",\"Gill\",\"Dhoni\",\"Sachin\",\"Yuvraj\",\"Jadeja\",\"Aswin\",\"Pandya\"}"
   ]
  },
  {
   "cell_type": "code",
   "execution_count": 59,
   "id": "d585c5ab-dbf0-4ac0-aa2d-915ea7953010",
   "metadata": {},
   "outputs": [],
   "source": [
    "Bowlers={\"bumra\",\"Siraj\",\"Pandya\", \"Jadeja\",\"Yuvraj\",\"Aswin\",\"Shami\"}"
   ]
  },
  {
   "cell_type": "code",
   "execution_count": 60,
   "id": "cc473673-d4e6-481e-b636-8039e0d027ba",
   "metadata": {},
   "outputs": [],
   "source": [
    "Team=Batters|Bowlers"
   ]
  },
  {
   "cell_type": "code",
   "execution_count": 61,
   "id": "7f2c1a1d-1eea-42b4-a431-55a9cdba4247",
   "metadata": {},
   "outputs": [
    {
     "data": {
      "text/plain": [
       "{'Aswin',\n",
       " 'Dhoni',\n",
       " 'Gill',\n",
       " 'Jadeja',\n",
       " 'Pandya',\n",
       " 'Sachin',\n",
       " 'Shami',\n",
       " 'Siraj',\n",
       " 'Viart',\n",
       " 'Yuvraj',\n",
       " 'bumra'}"
      ]
     },
     "execution_count": 61,
     "metadata": {},
     "output_type": "execute_result"
    }
   ],
   "source": [
    "Team"
   ]
  },
  {
   "cell_type": "code",
   "execution_count": 62,
   "id": "48486387-e67d-4eed-b230-6f5c01776755",
   "metadata": {},
   "outputs": [],
   "source": [
    "AllRounders=Batters&Bowlers"
   ]
  },
  {
   "cell_type": "code",
   "execution_count": 63,
   "id": "eb17d212-ce81-470f-a69a-2db879629361",
   "metadata": {},
   "outputs": [
    {
     "data": {
      "text/plain": [
       "{'Aswin', 'Jadeja', 'Pandya', 'Yuvraj'}"
      ]
     },
     "execution_count": 63,
     "metadata": {},
     "output_type": "execute_result"
    }
   ],
   "source": [
    "AllRounders"
   ]
  },
  {
   "cell_type": "code",
   "execution_count": 64,
   "id": "07e79b58-5948-4d6b-a338-c988c2f37c71",
   "metadata": {},
   "outputs": [
    {
     "data": {
      "text/plain": [
       "{'Dhoni', 'Gill', 'Sachin', 'Viart'}"
      ]
     },
     "execution_count": 64,
     "metadata": {},
     "output_type": "execute_result"
    }
   ],
   "source": [
    "Batters-Bowlers"
   ]
  },
  {
   "cell_type": "code",
   "execution_count": 65,
   "id": "cf60eea9-264d-475f-ada8-1dec12f87b88",
   "metadata": {},
   "outputs": [
    {
     "data": {
      "text/plain": [
       "{'Dhoni', 'Gill', 'Sachin', 'Shami', 'Siraj', 'Viart', 'bumra'}"
      ]
     },
     "execution_count": 65,
     "metadata": {},
     "output_type": "execute_result"
    }
   ],
   "source": [
    "Batters^Bowlers"
   ]
  },
  {
   "cell_type": "code",
   "execution_count": 66,
   "id": "9de2688d-8649-452a-84a1-1119f2e56280",
   "metadata": {},
   "outputs": [
    {
     "data": {
      "text/plain": [
       "{'Dhoni', 'Gill', 'Sachin', 'Shami', 'Siraj', 'Viart', 'bumra'}"
      ]
     },
     "execution_count": 66,
     "metadata": {},
     "output_type": "execute_result"
    }
   ],
   "source": [
    "Batters.symmetric_difference(Bowlers)"
   ]
  },
  {
   "cell_type": "code",
   "execution_count": 67,
   "id": "9334d29f-7180-459c-ba7a-eaeb6f25656a",
   "metadata": {},
   "outputs": [
    {
     "data": {
      "text/plain": [
       "{1, 4, 9, 16, 25, 36, 49, 64, 81}"
      ]
     },
     "execution_count": 67,
     "metadata": {},
     "output_type": "execute_result"
    }
   ],
   "source": [
    "{n*n for n in range(1,10)}"
   ]
  },
  {
   "cell_type": "code",
   "execution_count": null,
   "id": "4078d325-c8fc-4963-bb9d-d0c8528004c8",
   "metadata": {},
   "outputs": [],
   "source": []
  }
 ],
 "metadata": {
  "kernelspec": {
   "display_name": "Python 3 (ipykernel)",
   "language": "python",
   "name": "python3"
  },
  "language_info": {
   "codemirror_mode": {
    "name": "ipython",
    "version": 3
   },
   "file_extension": ".py",
   "mimetype": "text/x-python",
   "name": "python",
   "nbconvert_exporter": "python",
   "pygments_lexer": "ipython3",
   "version": "3.11.4"
  }
 },
 "nbformat": 4,
 "nbformat_minor": 5
}
